{
 "cells": [
  {
   "cell_type": "code",
   "execution_count": 244,
   "id": "3ab485eb",
   "metadata": {},
   "outputs": [],
   "source": [
    "import pandas as pd\n",
    "from sklearn.tree import DecisionTreeClassifier # Import Decision Tree Classifier\n",
    "from sklearn.model_selection import train_test_split # Import train_test_split function\n",
    "\n",
    "from sklearn import metrics #Import scikit-learn metrics module for accuracy calculation\n",
    "from sklearn.ensemble import RandomForestClassifier \n",
    "\n",
    "import random\n",
    "import numpy as np\n",
    "import math\n",
    "from sklearn import tree\n",
    "from sklearn.naive_bayes import GaussianNB\n",
    "from sklearn.naive_bayes import MultinomialNB, BernoulliNB\n",
    "from sklearn.svm import SVC\n",
    "from sklearn.naive_bayes import GaussianNB\n",
    "from sklearn.naive_bayes import MultinomialNB, BernoulliNB\n",
    "from sklearn.svm import SVC"
   ]
  },
  {
   "cell_type": "code",
   "execution_count": 245,
   "id": "4e8b14af",
   "metadata": {},
   "outputs": [],
   "source": [
    "def indexOf(d, v):\n",
    "    for i in d:\n",
    "        if (i == v):\n",
    "            return True\n",
    "    return False   "
   ]
  },
  {
   "cell_type": "code",
   "execution_count": 246,
   "id": "dbaf4f6e",
   "metadata": {},
   "outputs": [],
   "source": [
    "def get_feature(tree):\n",
    "    features  = [i for i in tree.tree_.feature]\n",
    "    featureIndex = [num for num in features if num != -2]\n",
    "    return featureIndex"
   ]
  },
  {
   "cell_type": "code",
   "execution_count": 247,
   "id": "bba5723c",
   "metadata": {},
   "outputs": [],
   "source": [
    "def getNumberFrist(d, n):\n",
    "    number = n if n<len(d) else len(d)\n",
    "    count = 0\n",
    "    arr = [];\n",
    "    for key, v in d:\n",
    "        if (count < number):\n",
    "            arr.append(key)\n",
    "            count = count +1;\n",
    "        else:\n",
    "            break\n",
    "    return arr;    "
   ]
  },
  {
   "cell_type": "code",
   "execution_count": 248,
   "id": "fde4c29a",
   "metadata": {},
   "outputs": [],
   "source": [
    "def buildRFwithAllFeature(df, n):\n",
    "    df.columns.values[0] = \"class\"\n",
    "    X = df.iloc[:,df.columns !='class']\n",
    "    Y = df[['class']]\n",
    "    d={}\n",
    "    acc_RF = list()\n",
    "    for i in range(n):\n",
    "        X_Train, X_Test, Y_Train, Y_Test = train_test_split(X, Y, train_size=0.7, random_state=np.random.randint(0, 100000))        \n",
    "        r,c = df.shape\n",
    "        rf_model.fit(X_Train,Y_Train.values.ravel())\n",
    "        pred_y = rf_model.predict(X_Test)\n",
    "        accRFi = metrics.accuracy_score(Y_Test, pred_y)\n",
    "        acc_RF.append(accRFi)\n",
    "        for idx, dtree in enumerate(rf_model.estimators_): \n",
    "            a = get_feature(tree = dtree)\n",
    "            for i in a:\n",
    "                if(indexOf(d, i)):\n",
    "                    number = d.get(i)\n",
    "                    number = number +1;\n",
    "                    d[i] = number\n",
    "                else:\n",
    "                    d.update({i:1})   \n",
    "    print (\"Gia tri trung binh\")\n",
    "    print (np.mean(acc_RF))    ## gia tri trung binh  \n",
    "    print (\"Do lech chuan\")\n",
    "    print (np.std(acc_RF))     ## Do lech chuan\n",
    "    return d"
   ]
  },
  {
   "cell_type": "code",
   "execution_count": 249,
   "id": "e8a04dd4",
   "metadata": {},
   "outputs": [],
   "source": [
    "def buildRFwithArrFeature(df, n, arrFeature):\n",
    "    df.columns.values[0] = \"class\"\n",
    "    X = df.iloc[:,df.columns !='class']\n",
    "    Y = df[['class']]\n",
    "    d={}\n",
    "    acc_RF = list()\n",
    "    for i in range(n):\n",
    "        X_Train, X_Test, Y_Train, Y_Test = train_test_split(X, Y, train_size=0.7, random_state=np.random.randint(0, 100000))        \n",
    "        X_Train1 = X_Train.iloc[:,arrFeature]\n",
    "        X_Test1 = X_Test.iloc[:, arrFeature]\n",
    "        rf_model.fit(X_Train1,Y_Train.values.ravel())\n",
    "        pred_y = rf_model.predict(X_Test1)\n",
    "        accRFi = metrics.accuracy_score(Y_Test, pred_y)\n",
    "        acc_RF.append(accRFi)\n",
    "    print (\"Gia tri trung binh\")\n",
    "    print (np.mean(acc_RF))    ## gia tri trung binh  \n",
    "    print (\"Do lech chuan\")\n",
    "    print (np.std(acc_RF))     ## Do lech chuan "
   ]
  },
  {
   "cell_type": "code",
   "execution_count": 250,
   "id": "a74ca032",
   "metadata": {},
   "outputs": [],
   "source": [
    "def buidSVCAllFeature(df, n):\n",
    "    df.columns.values[0] = \"class\"\n",
    "    X = df.iloc[:,df.columns !='class']\n",
    "    Y = df[['class']]\n",
    "    d={}\n",
    "    acc_SVC = list()\n",
    "    for i in range(n):\n",
    "        X_Train, X_Test, Y_Train, Y_Test = train_test_split(X, Y, train_size=0.7, random_state=np.random.randint(0, 100000))        \n",
    "        svclassifier.fit(X_Train, Y_Train.values.ravel())\n",
    "        y_pred = svclassifier.predict(X_Test) \n",
    "        accI = metrics.accuracy_score(Y_Test, y_pred);\n",
    "        acc_SVC.append(accI);\n",
    "    print (\"Gia tri trung binh\")\n",
    "    print (np.mean(acc_SVC))    ## gia tri trung binh      \n",
    "    "
   ]
  },
  {
   "cell_type": "code",
   "execution_count": 251,
   "id": "55fd2415",
   "metadata": {},
   "outputs": [],
   "source": [
    "def buidSVCSSelectedFeature(df, n, arrFeature):\n",
    "    df.columns.values[0] = \"class\"\n",
    "    X = df.iloc[:,df.columns !='class']\n",
    "    Y = df[['class']]\n",
    "    d={}\n",
    "    acc_SVC = list()\n",
    "    for i in range(n):\n",
    "        X_Train, X_Test, Y_Train, Y_Test = train_test_split(X, Y, train_size=0.7, random_state=np.random.randint(0, 100000))        \n",
    "        X_Train1 = X_Train.iloc[:,arrFeature]\n",
    "        X_Test1 = X_Test.iloc[:, arrFeature]\n",
    "        svclassifier.fit(X_Train1, Y_Train.values.ravel())\n",
    "        y_pred = svclassifier.predict(X_Test1) \n",
    "        accI = metrics.accuracy_score(Y_Test, y_pred);\n",
    "        acc_SVC.append(accI);\n",
    "    print (\"Gia tri trung binh\")\n",
    "    print (np.mean(acc_SVC))    ## gia tri trung binh      "
   ]
  },
  {
   "cell_type": "code",
   "execution_count": 252,
   "id": "b61ef4cb",
   "metadata": {},
   "outputs": [],
   "source": [
    "def buidNaivebayesAllFeature(df, n):\n",
    "    df.columns.values[0] = \"class\"\n",
    "    X = df.iloc[:,df.columns !='class']\n",
    "    Y = df[['class']]\n",
    "    d={}\n",
    "    acc_SVC = list()\n",
    "    for i in range(n):\n",
    "        X_Train, X_Test, Y_Train, Y_Test = train_test_split(X, Y, train_size=0.7, random_state=np.random.randint(0, 100000))        \n",
    "        model_navie.fit(X_Train, Y_Train.values.ravel()) \n",
    "        prediction = model_navie.predict(X_Test)   \n",
    "        accI = metrics.accuracy_score(Y_Test, prediction);\n",
    "        acc_SVC.append(accI);\n",
    "    print (\"Gia tri trung binh\")\n",
    "    print (np.mean(acc_SVC))    ## gia tri trung binh   "
   ]
  },
  {
   "cell_type": "code",
   "execution_count": 253,
   "id": "084aa9ff",
   "metadata": {},
   "outputs": [],
   "source": [
    "def buidNaivebayesSelectedFeature(df, n, arrFeature):\n",
    "    df.columns.values[0] = \"class\"\n",
    "    X = df.iloc[:,df.columns !='class']\n",
    "    Y = df[['class']]\n",
    "    d={}\n",
    "    acc_SVC = list()\n",
    "    for i in range(n):\n",
    "        X_Train, X_Test, Y_Train, Y_Test = train_test_split(X, Y, train_size=0.7, random_state=np.random.randint(0, 100000))        \n",
    "        X_Train1 = X_Train.iloc[:,arrFeature]\n",
    "        X_Test1 = X_Test.iloc[:, arrFeature]\n",
    "        model_navie.fit(X_Train1, Y_Train.values.ravel()) \n",
    "        prediction = model_navie.predict(X_Test1)   \n",
    "        accI = metrics.accuracy_score(Y_Test, prediction);\n",
    "        acc_SVC.append(accI);\n",
    "    print (\"Gia tri trung binh\")\n",
    "    print (np.mean(acc_SVC))    ## gia tri trung binh"
   ]
  },
  {
   "cell_type": "code",
   "execution_count": 254,
   "id": "8f383957",
   "metadata": {},
   "outputs": [],
   "source": [
    "data = df = pd.read_csv(\"data/adenocarcinoma.csv\")\n",
    "r,c = df.shape\n",
    "rf_model = RandomForestClassifier(n_estimators=500)"
   ]
  },
  {
   "cell_type": "code",
   "execution_count": 255,
   "id": "56dcba5e",
   "metadata": {},
   "outputs": [
    {
     "name": "stdout",
     "output_type": "stream",
     "text": [
      "Gia tri trung binh\n",
      "0.8413043478260868\n",
      "Do lech chuan\n",
      "0.07310944226434885\n"
     ]
    }
   ],
   "source": [
    "d = buildRFwithAllFeature(df, 20)"
   ]
  },
  {
   "cell_type": "code",
   "execution_count": 256,
   "id": "9971e91a",
   "metadata": {},
   "outputs": [],
   "source": [
    "a = sorted(d.items(), key=lambda item: item[1], reverse=True)"
   ]
  },
  {
   "cell_type": "code",
   "execution_count": 257,
   "id": "8fd0ae0b",
   "metadata": {},
   "outputs": [
    {
     "name": "stdout",
     "output_type": "stream",
     "text": [
      "Gia tri trung binh\n",
      "0.8652173913043477\n",
      "Do lech chuan\n",
      "0.08575253444920009\n"
     ]
    }
   ],
   "source": [
    "number1 = c*20/100;    \n",
    "arr1 = getNumberFrist(a, number)\n",
    "buildRFwithArrFeature(df, 20, arr1)"
   ]
  },
  {
   "cell_type": "code",
   "execution_count": 258,
   "id": "1ea930f4",
   "metadata": {},
   "outputs": [
    {
     "name": "stdout",
     "output_type": "stream",
     "text": [
      "Gia tri trung binh\n",
      "0.8326086956521739\n",
      "Do lech chuan\n",
      "0.046166870829554986\n"
     ]
    }
   ],
   "source": [
    "number2 = c*10/100;    \n",
    "arr2 = getNumberFrist(a, number2)\n",
    "buildRFwithArrFeature(df, 20, arr2)"
   ]
  },
  {
   "cell_type": "code",
   "execution_count": 259,
   "id": "6c6d045a",
   "metadata": {},
   "outputs": [
    {
     "name": "stdout",
     "output_type": "stream",
     "text": [
      "Gia tri trung binh\n",
      "0.8760869565217393\n",
      "Do lech chuan\n",
      "0.060362797290934\n"
     ]
    }
   ],
   "source": [
    "number3 = c*5/100;    \n",
    "arr3 = getNumberFrist(a, number3)\n",
    "buildRFwithArrFeature(df, 20, arr3)"
   ]
  },
  {
   "cell_type": "code",
   "execution_count": 260,
   "id": "6acf7349",
   "metadata": {},
   "outputs": [],
   "source": [
    "svclassifier = SVC(kernel='rbf')"
   ]
  },
  {
   "cell_type": "code",
   "execution_count": 261,
   "id": "b476bcee",
   "metadata": {},
   "outputs": [
    {
     "name": "stdout",
     "output_type": "stream",
     "text": [
      "Gia tri trung binh\n",
      "0.8456521739130434\n"
     ]
    }
   ],
   "source": [
    "buidSVCAllFeature(df, 20)"
   ]
  },
  {
   "cell_type": "code",
   "execution_count": 262,
   "id": "c200d1b8",
   "metadata": {},
   "outputs": [
    {
     "name": "stdout",
     "output_type": "stream",
     "text": [
      "Gia tri trung binh\n",
      "0.8717391304347826\n"
     ]
    }
   ],
   "source": [
    "buidSVCSSelectedFeature(df, 20, arr1)"
   ]
  },
  {
   "cell_type": "code",
   "execution_count": 263,
   "id": "b262902c",
   "metadata": {},
   "outputs": [
    {
     "name": "stdout",
     "output_type": "stream",
     "text": [
      "Gia tri trung binh\n",
      "0.817391304347826\n"
     ]
    }
   ],
   "source": [
    "buidSVCSSelectedFeature(df, 20, arr2)"
   ]
  },
  {
   "cell_type": "code",
   "execution_count": 264,
   "id": "53ab4f60",
   "metadata": {},
   "outputs": [
    {
     "name": "stdout",
     "output_type": "stream",
     "text": [
      "Gia tri trung binh\n",
      "0.8717391304347828\n"
     ]
    }
   ],
   "source": [
    "buidSVCSSelectedFeature(df, 20, arr3)"
   ]
  },
  {
   "cell_type": "code",
   "execution_count": 265,
   "id": "321af6d1",
   "metadata": {},
   "outputs": [],
   "source": [
    "model_navie = GaussianNB()"
   ]
  },
  {
   "cell_type": "code",
   "execution_count": 266,
   "id": "b2b7e22c",
   "metadata": {},
   "outputs": [
    {
     "name": "stdout",
     "output_type": "stream",
     "text": [
      "Gia tri trung binh\n",
      "0.8021739130434783\n"
     ]
    }
   ],
   "source": [
    "buidNaivebayesAllFeature(df, 20)"
   ]
  },
  {
   "cell_type": "code",
   "execution_count": 267,
   "id": "c55ac174",
   "metadata": {},
   "outputs": [
    {
     "name": "stdout",
     "output_type": "stream",
     "text": [
      "Gia tri trung binh\n",
      "0.8521739130434783\n"
     ]
    }
   ],
   "source": [
    "buidNaivebayesSelectedFeature(df, 20, arr1)"
   ]
  },
  {
   "cell_type": "code",
   "execution_count": 268,
   "id": "645af3e7",
   "metadata": {},
   "outputs": [
    {
     "name": "stdout",
     "output_type": "stream",
     "text": [
      "Gia tri trung binh\n",
      "0.7565217391304349\n"
     ]
    }
   ],
   "source": [
    "buidNaivebayesSelectedFeature(df, 20, arr2)"
   ]
  },
  {
   "cell_type": "code",
   "execution_count": 269,
   "id": "347eb4da",
   "metadata": {},
   "outputs": [
    {
     "name": "stdout",
     "output_type": "stream",
     "text": [
      "Gia tri trung binh\n",
      "0.8478260869565217\n"
     ]
    }
   ],
   "source": [
    "buidNaivebayesSelectedFeature(df, 20, arr3)"
   ]
  },
  {
   "cell_type": "code",
   "execution_count": null,
   "id": "a2fd2db0",
   "metadata": {},
   "outputs": [],
   "source": []
  }
 ],
 "metadata": {
  "kernelspec": {
   "display_name": "Python 3 (ipykernel)",
   "language": "python",
   "name": "python3"
  },
  "language_info": {
   "codemirror_mode": {
    "name": "ipython",
    "version": 3
   },
   "file_extension": ".py",
   "mimetype": "text/x-python",
   "name": "python",
   "nbconvert_exporter": "python",
   "pygments_lexer": "ipython3",
   "version": "3.9.13"
  }
 },
 "nbformat": 4,
 "nbformat_minor": 5
}
