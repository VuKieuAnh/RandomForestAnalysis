{
 "cells": [
  {
   "cell_type": "code",
   "execution_count": 44,
   "id": "3ab485eb",
   "metadata": {},
   "outputs": [],
   "source": [
    "import pandas as pd\n",
    "from sklearn.tree import DecisionTreeClassifier # Import Decision Tree Classifier\n",
    "from sklearn.model_selection import train_test_split # Import train_test_split function\n",
    "\n",
    "from sklearn import metrics #Import scikit-learn metrics module for accuracy calculation\n",
    "from sklearn.ensemble import RandomForestClassifier \n",
    "\n",
    "import random\n",
    "import numpy as np\n",
    "import math\n",
    "from sklearn import tree\n",
    "import graphviz "
   ]
  },
  {
   "cell_type": "code",
   "execution_count": 45,
   "id": "8f383957",
   "metadata": {},
   "outputs": [],
   "source": [
    "data = df = pd.read_csv(\"data/Breast2classes.csv\")\n",
    "df.columns.values[0] = \"class\"\n",
    "X = df.iloc[:,df.columns !='class']\n",
    "Y = df[['class']]"
   ]
  },
  {
   "cell_type": "code",
   "execution_count": 46,
   "id": "03d2d630",
   "metadata": {},
   "outputs": [
    {
     "name": "stdout",
     "output_type": "stream",
     "text": [
      "77 4870\n"
     ]
    }
   ],
   "source": [
    "X_Train, X_Test, Y_Train, Y_Test = train_test_split(X, Y, train_size=0.7, random_state=np.random.randint(0, 100000))        \n",
    "r,c = df.shape\n",
    "print(r, c)"
   ]
  },
  {
   "cell_type": "code",
   "execution_count": 47,
   "id": "c8e8ada0",
   "metadata": {},
   "outputs": [],
   "source": [
    "rf_model = RandomForestClassifier(n_estimators=500)\n",
    "rf_model.fit(X_Train,Y_Train.values.ravel())\n",
    "pred_y = rf_model.predict(X_Test)"
   ]
  },
  {
   "cell_type": "code",
   "execution_count": 48,
   "id": "7b631474",
   "metadata": {},
   "outputs": [],
   "source": [
    "accRF = metrics.accuracy_score(Y_Test, pred_y)\n"
   ]
  },
  {
   "cell_type": "code",
   "execution_count": 49,
   "id": "ea385c99",
   "metadata": {},
   "outputs": [
    {
     "name": "stderr",
     "output_type": "stream",
     "text": [
      "/Users/kieuanh/opt/anaconda3/lib/python3.9/site-packages/sklearn/base.py:1151: DataConversionWarning: A column-vector y was passed when a 1d array was expected. Please change the shape of y to (n_samples,), for example using ravel().\n",
      "  return fit_method(estimator, *args, **kwargs)\n"
     ]
    },
    {
     "data": {
      "text/html": [
       "<style>#sk-container-id-4 {color: black;}#sk-container-id-4 pre{padding: 0;}#sk-container-id-4 div.sk-toggleable {background-color: white;}#sk-container-id-4 label.sk-toggleable__label {cursor: pointer;display: block;width: 100%;margin-bottom: 0;padding: 0.3em;box-sizing: border-box;text-align: center;}#sk-container-id-4 label.sk-toggleable__label-arrow:before {content: \"▸\";float: left;margin-right: 0.25em;color: #696969;}#sk-container-id-4 label.sk-toggleable__label-arrow:hover:before {color: black;}#sk-container-id-4 div.sk-estimator:hover label.sk-toggleable__label-arrow:before {color: black;}#sk-container-id-4 div.sk-toggleable__content {max-height: 0;max-width: 0;overflow: hidden;text-align: left;background-color: #f0f8ff;}#sk-container-id-4 div.sk-toggleable__content pre {margin: 0.2em;color: black;border-radius: 0.25em;background-color: #f0f8ff;}#sk-container-id-4 input.sk-toggleable__control:checked~div.sk-toggleable__content {max-height: 200px;max-width: 100%;overflow: auto;}#sk-container-id-4 input.sk-toggleable__control:checked~label.sk-toggleable__label-arrow:before {content: \"▾\";}#sk-container-id-4 div.sk-estimator input.sk-toggleable__control:checked~label.sk-toggleable__label {background-color: #d4ebff;}#sk-container-id-4 div.sk-label input.sk-toggleable__control:checked~label.sk-toggleable__label {background-color: #d4ebff;}#sk-container-id-4 input.sk-hidden--visually {border: 0;clip: rect(1px 1px 1px 1px);clip: rect(1px, 1px, 1px, 1px);height: 1px;margin: -1px;overflow: hidden;padding: 0;position: absolute;width: 1px;}#sk-container-id-4 div.sk-estimator {font-family: monospace;background-color: #f0f8ff;border: 1px dotted black;border-radius: 0.25em;box-sizing: border-box;margin-bottom: 0.5em;}#sk-container-id-4 div.sk-estimator:hover {background-color: #d4ebff;}#sk-container-id-4 div.sk-parallel-item::after {content: \"\";width: 100%;border-bottom: 1px solid gray;flex-grow: 1;}#sk-container-id-4 div.sk-label:hover label.sk-toggleable__label {background-color: #d4ebff;}#sk-container-id-4 div.sk-serial::before {content: \"\";position: absolute;border-left: 1px solid gray;box-sizing: border-box;top: 0;bottom: 0;left: 50%;z-index: 0;}#sk-container-id-4 div.sk-serial {display: flex;flex-direction: column;align-items: center;background-color: white;padding-right: 0.2em;padding-left: 0.2em;position: relative;}#sk-container-id-4 div.sk-item {position: relative;z-index: 1;}#sk-container-id-4 div.sk-parallel {display: flex;align-items: stretch;justify-content: center;background-color: white;position: relative;}#sk-container-id-4 div.sk-item::before, #sk-container-id-4 div.sk-parallel-item::before {content: \"\";position: absolute;border-left: 1px solid gray;box-sizing: border-box;top: 0;bottom: 0;left: 50%;z-index: -1;}#sk-container-id-4 div.sk-parallel-item {display: flex;flex-direction: column;z-index: 1;position: relative;background-color: white;}#sk-container-id-4 div.sk-parallel-item:first-child::after {align-self: flex-end;width: 50%;}#sk-container-id-4 div.sk-parallel-item:last-child::after {align-self: flex-start;width: 50%;}#sk-container-id-4 div.sk-parallel-item:only-child::after {width: 0;}#sk-container-id-4 div.sk-dashed-wrapped {border: 1px dashed gray;margin: 0 0.4em 0.5em 0.4em;box-sizing: border-box;padding-bottom: 0.4em;background-color: white;}#sk-container-id-4 div.sk-label label {font-family: monospace;font-weight: bold;display: inline-block;line-height: 1.2em;}#sk-container-id-4 div.sk-label-container {text-align: center;}#sk-container-id-4 div.sk-container {/* jupyter's `normalize.less` sets `[hidden] { display: none; }` but bootstrap.min.css set `[hidden] { display: none !important; }` so we also need the `!important` here to be able to override the default hidden behavior on the sphinx rendered scikit-learn.org. See: https://github.com/scikit-learn/scikit-learn/issues/21755 */display: inline-block !important;position: relative;}#sk-container-id-4 div.sk-text-repr-fallback {display: none;}</style><div id=\"sk-container-id-4\" class=\"sk-top-container\"><div class=\"sk-text-repr-fallback\"><pre>RandomForestClassifier(n_estimators=500)</pre><b>In a Jupyter environment, please rerun this cell to show the HTML representation or trust the notebook. <br />On GitHub, the HTML representation is unable to render, please try loading this page with nbviewer.org.</b></div><div class=\"sk-container\" hidden><div class=\"sk-item\"><div class=\"sk-estimator sk-toggleable\"><input class=\"sk-toggleable__control sk-hidden--visually\" id=\"sk-estimator-id-4\" type=\"checkbox\" checked><label for=\"sk-estimator-id-4\" class=\"sk-toggleable__label sk-toggleable__label-arrow\">RandomForestClassifier</label><div class=\"sk-toggleable__content\"><pre>RandomForestClassifier(n_estimators=500)</pre></div></div></div></div></div>"
      ],
      "text/plain": [
       "RandomForestClassifier(n_estimators=500)"
      ]
     },
     "execution_count": 49,
     "metadata": {},
     "output_type": "execute_result"
    }
   ],
   "source": [
    "rf = RandomForestClassifier(n_estimators = 500)\n",
    "X_Train, X_Test, Y_Train, Y_Test = train_test_split(X, Y,  stratify=Y, train_size=0.7)        \n",
    "rf.fit(X = X_Train, y = Y_Train)"
   ]
  },
  {
   "cell_type": "code",
   "execution_count": 50,
   "id": "4b10efcb",
   "metadata": {},
   "outputs": [
    {
     "name": "stdout",
     "output_type": "stream",
     "text": [
      "0.5416666666666666\n"
     ]
    }
   ],
   "source": [
    "print(accRF)"
   ]
  },
  {
   "cell_type": "code",
   "execution_count": 51,
   "id": "a17d19b8",
   "metadata": {},
   "outputs": [],
   "source": [
    "feature_names = [i for i in range(X_Train.shape[1])]\n",
    "target_vals = list(np.sort(np.unique(Y_Train)))\n",
    "target_names = [\"y\" + str(i) for i in target_vals]"
   ]
  },
  {
   "cell_type": "code",
   "execution_count": 53,
   "id": "146b65f1",
   "metadata": {},
   "outputs": [],
   "source": [
    "def get_feature(tree):\n",
    "    features  = [feature_names[i] for i in tree.tree_.feature]\n",
    "    return features"
   ]
  },
  {
   "cell_type": "code",
   "execution_count": 54,
   "id": "c223a855",
   "metadata": {},
   "outputs": [],
   "source": [
    "def indexOf(d, v):\n",
    "    for i in d:\n",
    "        if (i == v):\n",
    "            return True\n",
    "    return False   "
   ]
  },
  {
   "cell_type": "code",
   "execution_count": 55,
   "id": "7db60301",
   "metadata": {},
   "outputs": [],
   "source": [
    "d={}\n",
    "for idx, dtree in enumerate(rf.estimators_): \n",
    "    a = get_feature(tree = dtree)\n",
    "    for i in a:\n",
    "        if(indexOf(d, i)):\n",
    "#             lay ra munber\n",
    "            number = d.get(i)\n",
    "#  cong them 1 \n",
    "            number = number +1;\n",
    "#  Gan lai vao distionary\n",
    "            d[i] = number\n",
    "        else:\n",
    "#       Them vào dictionary  \n",
    "            d.update({i:1})       \n",
    "        "
   ]
  },
  {
   "cell_type": "code",
   "execution_count": 57,
   "id": "c1ae9db0",
   "metadata": {},
   "outputs": [
    {
     "name": "stdout",
     "output_type": "stream",
     "text": [
      "{3733: 3, 4867: 2897, 2882: 1, 324: 1, 3575: 1, 3994: 1, 1864: 6, 3970: 1, 1801: 3, 4573: 1, 1219: 2, 1402: 3, 3794: 1, 759: 2, 1187: 1, 28: 1, 417: 1, 4294: 1, 1183: 2, 4267: 1, 4215: 1, 1248: 2, 3230: 1, 1523: 2, 2597: 2, 3850: 1, 3433: 1, 3925: 3, 3843: 1, 1590: 2, 3779: 2, 3699: 2, 3242: 1, 2846: 1, 1375: 3, 419: 2, 553: 1, 3877: 1, 3676: 2, 4004: 1, 685: 1, 4805: 2, 632: 1, 304: 2, 3083: 1, 43: 4, 4224: 1, 4560: 1, 68: 2, 1694: 1, 2690: 1, 4538: 2, 1915: 1, 2394: 1, 4223: 2, 940: 2, 2000: 1, 3146: 1, 3719: 3, 3808: 1, 383: 1, 556: 2, 3649: 1, 3315: 1, 3363: 1, 1093: 1, 3785: 1, 4709: 1, 3459: 4, 4575: 4, 1142: 1, 4758: 2, 1929: 2, 528: 1, 435: 3, 31: 2, 4076: 1, 825: 1, 4641: 2, 1900: 2, 4159: 1, 2378: 2, 2315: 1, 715: 1, 830: 1, 4035: 3, 4864: 2, 3875: 2, 496: 1, 3920: 2, 2004: 1, 3847: 3, 2042: 1, 867: 1, 1627: 1, 3945: 1, 913: 2, 4239: 2, 2731: 1, 4523: 1, 3943: 3, 500: 1, 4025: 2, 4853: 1, 218: 1, 3335: 2, 2966: 1, 4446: 5, 2591: 3, 788: 1, 4234: 2, 696: 6, 3620: 2, 2991: 2, 596: 2, 1737: 3, 1530: 1, 1470: 2, 3723: 4, 4155: 3, 3854: 1, 2: 2, 4586: 1, 2056: 1, 405: 1, 3963: 2, 3109: 2, 298: 1, 710: 1, 3317: 1, 2415: 1, 280: 1, 317: 1, 2628: 1, 467: 5, 2482: 3, 3796: 1, 4153: 2, 2624: 1, 2750: 1, 4627: 1, 4754: 1, 4441: 2, 2303: 1, 129: 2, 992: 1, 2271: 7, 3256: 1, 238: 1, 4278: 2, 4298: 3, 1578: 3, 4227: 1, 2262: 3, 1851: 1, 4808: 7, 1114: 2, 3902: 1, 3936: 4, 259: 1, 621: 2, 4348: 3, 3586: 1, 4585: 2, 3977: 2, 1789: 1, 4194: 1, 2584: 1, 4264: 1, 2573: 3, 1652: 1, 3402: 1, 2214: 2, 4001: 1, 1151: 2, 3726: 1, 1768: 1, 939: 1, 1845: 2, 1018: 1, 518: 3, 1661: 1, 947: 2, 1786: 1, 224: 1, 3135: 1, 1396: 3, 4715: 3, 3444: 1, 2422: 1, 1454: 3, 4773: 1, 3463: 1, 1514: 3, 4149: 1, 133: 3, 494: 2, 3487: 1, 3951: 1, 8: 1, 1021: 2, 1074: 2, 3535: 1, 3267: 2, 4175: 1, 1444: 2, 1335: 1, 3026: 2, 4150: 2, 766: 1, 1542: 1, 4444: 2, 4620: 2, 644: 1, 4588: 2, 2297: 1, 1933: 1, 756: 2, 516: 1, 1976: 1, 2153: 1, 1760: 2, 4696: 1, 1649: 1, 1244: 2, 60: 1, 1982: 1, 110: 2, 3536: 1, 2375: 2, 1636: 2, 3642: 2, 1315: 2, 1780: 1, 4535: 1, 4027: 1, 3294: 1, 3197: 2, 3622: 1, 3683: 1, 4849: 1, 1816: 2, 3737: 1, 4321: 2, 1165: 2, 3904: 1, 893: 1, 13: 1, 1927: 2, 79: 1, 2752: 1, 4711: 1, 4055: 1, 2705: 1, 2142: 1, 2904: 1, 137: 1, 2888: 1, 883: 4, 2250: 1, 4613: 2, 1483: 1, 1351: 2, 574: 1, 3869: 1, 681: 2, 3688: 1, 363: 2, 4271: 1, 4405: 1, 307: 1, 946: 1, 3222: 1, 3947: 1, 2176: 1, 119: 2, 3754: 1, 271: 2, 3173: 1, 3876: 2, 925: 5, 2033: 2, 2423: 1, 2130: 1, 3820: 3, 4151: 1, 3528: 2, 3012: 1, 3735: 2, 3597: 1, 955: 3, 1899: 3, 2219: 2, 3700: 2, 3002: 1, 4020: 1, 2341: 2, 284: 2, 1057: 1, 2568: 2, 1159: 1, 1064: 2, 4099: 2, 1561: 2, 1257: 1, 2587: 1, 1282: 6, 805: 1, 2941: 1, 34: 1, 1107: 1, 4353: 1, 1014: 1, 3067: 1, 4706: 1, 4494: 2, 456: 1, 3066: 1, 820: 1, 2401: 2, 2393: 1, 4309: 1, 2099: 1, 3266: 3, 415: 1, 4701: 1, 2895: 1, 2689: 1, 4312: 1, 4462: 3, 839: 1, 2615: 3, 1448: 4, 72: 1, 3784: 1, 2173: 1, 1639: 2, 3939: 1, 625: 1, 4416: 2, 4318: 1, 1049: 1, 3172: 6, 3900: 4, 2352: 1, 4407: 1, 3983: 2, 4519: 1, 1722: 1, 2553: 1, 1499: 2, 2490: 3, 3573: 1, 4771: 2, 1679: 1, 219: 1, 3556: 2, 594: 1, 4019: 1, 2993: 1, 2616: 3, 4354: 2, 2715: 2, 4395: 1, 2336: 2, 2672: 1, 2889: 3, 832: 4, 1936: 2, 4126: 2, 99: 1, 4428: 1, 597: 2, 797: 1, 460: 2, 365: 3, 4195: 1, 4185: 1, 2552: 1, 2226: 3, 3778: 1, 3054: 1, 4614: 1, 4169: 1, 2488: 1, 144: 1, 3118: 1, 484: 3, 3393: 2, 4825: 1, 2744: 2, 2985: 1, 3630: 2, 4297: 1, 2621: 1, 2535: 2, 2924: 2, 1937: 2, 285: 1, 1368: 3, 2937: 1, 4393: 1, 3948: 1, 1580: 1, 2450: 1, 2726: 2, 3360: 1, 2997: 1, 2950: 1, 3068: 3, 1232: 2, 427: 1, 2868: 1, 3856: 1, 4170: 1, 3080: 2, 3099: 1, 154: 2, 3930: 2, 1830: 1, 2749: 1, 1051: 1, 269: 5, 3394: 1, 3999: 1, 2069: 2, 4060: 1, 3567: 1, 3833: 1, 2232: 2, 795: 1, 2518: 1, 3352: 2, 4770: 1, 4820: 2, 2885: 2, 4073: 2, 1651: 1, 4304: 1, 2358: 1, 4844: 4, 4474: 1, 1016: 1, 1164: 1, 3952: 1, 3358: 1, 2243: 1, 1259: 1, 1082: 1, 4532: 3, 315: 3, 1566: 1, 4280: 1, 4028: 2, 3720: 1, 1898: 4, 2133: 1, 4144: 1, 3059: 1, 4866: 3, 505: 1, 1245: 1, 200: 1, 394: 1, 273: 1, 4434: 1, 3073: 3, 2486: 1, 3672: 1, 503: 1, 4371: 2, 278: 1, 1046: 1, 4247: 1, 3348: 1, 3496: 2, 4840: 1, 4222: 2, 3585: 1, 356: 1, 1873: 1, 4636: 1, 856: 1, 1859: 2, 964: 2, 3631: 1, 2380: 2, 1502: 4, 571: 1, 350: 1, 3344: 1, 3004: 1, 4607: 1, 3079: 2, 1865: 1, 3307: 2, 2321: 1, 3391: 1, 3140: 1, 471: 3, 1081: 2, 1266: 2, 2660: 1, 3466: 1, 723: 1, 2406: 1, 2774: 1, 3260: 1, 4313: 1, 2208: 1, 1872: 3, 208: 1, 2466: 1, 1605: 2, 1469: 1, 2125: 2, 216: 2, 3937: 1, 2448: 1, 4862: 1, 1948: 1, 1330: 1, 4003: 3, 3263: 1, 1480: 2, 1912: 1, 3452: 1, 900: 1, 393: 2, 3523: 2, 1608: 1, 248: 1, 2026: 1, 2639: 1, 1414: 1, 1691: 1, 3721: 1, 267: 1, 845: 1, 1372: 1, 2800: 1, 2768: 1, 690: 2, 2661: 1, 2528: 1, 3134: 1, 225: 1, 2761: 2, 783: 4, 2207: 3, 4029: 2, 3384: 1, 341: 1, 2068: 1, 1883: 1, 3764: 2, 812: 1, 1243: 1, 2996: 1, 2455: 1, 2881: 3, 2348: 2, 3643: 1, 2416: 1, 2156: 1, 3816: 7, 3373: 2, 2229: 1, 481: 2, 4700: 1, 2593: 2, 2827: 2, 2742: 2, 2387: 1, 2078: 2, 1840: 2, 3979: 1, 2172: 1, 563: 1, 1693: 1, 1213: 3, 2795: 1, 4252: 2, 3584: 2, 1087: 1, 502: 1, 1739: 2, 2131: 1, 2442: 1, 1399: 2, 1602: 1, 3268: 1, 3371: 2, 512: 1, 4093: 1, 1242: 2, 1208: 1, 1966: 1, 287: 1, 4694: 7, 4148: 2, 4026: 1, 1527: 1, 4097: 1, 631: 1, 2212: 3, 3387: 1, 2302: 2, 2830: 1, 3088: 2, 3976: 3, 2816: 3, 3835: 1, 2583: 2, 14: 1, 2197: 2, 3353: 1, 1303: 1, 4361: 1, 1393: 1, 531: 2, 3953: 2, 4013: 1, 519: 1, 2828: 1, 4528: 1, 1007: 1, 2605: 1, 1826: 1, 3725: 1, 1185: 1, 3551: 3, 1555: 2, 4325: 1, 2102: 3, 3703: 1, 3783: 1, 3524: 1, 2909: 1, 1752: 1, 3666: 2, 4075: 1, 4262: 1, 4743: 1, 3069: 1, 2631: 1, 1793: 1, 2956: 1, 1949: 1, 4799: 1, 2634: 2, 3025: 1, 742: 1, 3896: 1, 801: 1, 4240: 2, 3205: 2, 4299: 1, 4184: 1, 3651: 1, 3129: 1, 2870: 1, 541: 1, 1923: 2, 2629: 2, 1715: 1, 868: 5, 320: 1, 511: 3, 4717: 2, 1908: 1, 567: 1, 1279: 1, 3010: 1, 3859: 1, 3006: 3, 4346: 1, 199: 3, 1446: 1, 2261: 1, 439: 5, 2485: 1, 958: 1, 3611: 1, 3610: 1, 203: 2, 2643: 1, 551: 1, 1511: 1, 4038: 1, 4651: 1, 1264: 1, 3818: 1, 2513: 1, 3262: 1, 2721: 2, 2688: 2, 3882: 1, 3671: 1, 4676: 1, 2187: 1, 4750: 1, 1006: 2, 3502: 1, 3215: 1, 931: 1, 3214: 1, 4719: 1, 3181: 1, 4000: 1, 1008: 1, 1540: 1, 2860: 3, 4542: 1, 1369: 1, 943: 1, 4468: 1, 2614: 1, 1920: 1, 2005: 3, 2722: 1, 4113: 1, 313: 1, 858: 3, 811: 1, 689: 1, 3309: 2, 3060: 1, 1278: 1, 1012: 2, 1217: 1, 4064: 2, 2441: 2, 552: 1, 2824: 1, 2077: 4, 873: 1, 2681: 1, 1528: 1, 4211: 1, 74: 1, 796: 1, 3475: 2, 4765: 1, 46: 2, 4049: 3, 2962: 1, 2826: 1, 2413: 2, 3411: 1, 2190: 1, 2674: 3, 1505: 2, 22: 1, 4129: 2, 4174: 2, 4813: 1, 256: 1, 4726: 7, 986: 1, 3530: 1, 406: 1, 3374: 1, 3507: 2, 80: 2, 2617: 2, 1645: 1, 475: 2, 3017: 1, 2729: 1, 300: 1, 2275: 1, 3768: 1, 915: 1, 1917: 1, 3864: 1, 4777: 1, 4554: 2, 4307: 1, 3678: 3, 470: 2, 2428: 2, 1134: 1, 3670: 5, 2242: 1, 4728: 5, 510: 1, 1333: 1, 2124: 4, 1124: 1, 2498: 1, 3566: 1, 1539: 2, 4358: 2, 1779: 1, 2913: 2, 4601: 2, 2910: 2, 778: 2, 4699: 1, 1102: 1, 4643: 1, 4219: 1, 25: 1, 1582: 2, 1293: 1, 938: 1, 1549: 2, 3473: 1, 3293: 1, 910: 1, 4314: 5, 1548: 1, 1443: 2, 1607: 1, 2994: 1, 2051: 2, 2968: 1, 2399: 2, 3759: 2, 1490: 1, 3485: 1, 3114: 2, 1286: 1, 2414: 1, 1434: 2, 2564: 2, 1776: 3, 4472: 1, 3775: 1, 2974: 1, 4511: 3, 4720: 2, 3085: 1, 2117: 1, 3550: 1, 2342: 2, 2435: 2, 2165: 1, 186: 1, 1571: 1, 1432: 1, 1619: 2, 2516: 1, 1056: 1, 1340: 2, 1455: 1, 3123: 1, 2492: 1, 4533: 1, 2335: 1, 876: 2, 1866: 1, 1758: 1, 1683: 1, 4652: 2, 995: 1, 3831: 3, 452: 1, 3168: 2, 4642: 1, 1222: 2, 4827: 2, 1674: 2, 2632: 3, 3716: 1, 601: 1, 3601: 2, 686: 2, 1397: 1, 412: 1, 1642: 1, 378: 1, 3659: 1, 851: 1, 3347: 1, 161: 1, 3428: 1, 1423: 1, 2434: 1, 2995: 3, 1166: 3, 403: 1, 4496: 3, 67: 1, 283: 1, 3297: 1, 3776: 1, 4471: 1, 3690: 1, 2867: 1, 753: 2, 1825: 2, 3130: 1, 694: 1, 4783: 2, 3003: 1, 1029: 1, 4842: 1, 2227: 2, 3653: 1, 1085: 1, 4229: 2, 4189: 1, 4255: 3, 45: 1, 2147: 1, 4662: 1, 2739: 1, 4370: 1, 4691: 4, 1564: 1, 1447: 2, 156: 1, 1852: 1, 2887: 1, 636: 1, 1377: 1, 1491: 1, 4481: 1, 2119: 2, 3429: 2, 2561: 1, 1254: 1, 2319: 1, 1011: 2, 2395: 2, 2001: 1, 1406: 1, 2432: 1, 2943: 1, 3598: 1, 1601: 2, 4669: 2, 3616: 1, 3072: 1, 4389: 3, 4142: 1, 586: 1, 1939: 1, 4111: 1, 2453: 1, 297: 1, 3684: 1, 1562: 1, 4036: 1, 1249: 1, 731: 1, 3595: 2, 4082: 2, 1723: 1, 969: 2, 3289: 1, 1569: 1, 1347: 1, 423: 1, 2675: 1, 3946: 1, 1510: 1, 2772: 1, 4489: 1, 2925: 1, 2942: 1, 1795: 1, 2678: 1, 1880: 1, 3692: 2, 2253: 1, 1635: 1, 436: 1, 3061: 1, 1585: 1, 4742: 1, 375: 1, 3803: 1, 3178: 1, 2412: 1, 1098: 1, 2949: 1, 2971: 1, 709: 1, 158: 1, 2491: 1, 2988: 1, 4357: 1, 2696: 3, 3572: 1, 2007: 1, 149: 1, 2903: 1, 3563: 1, 1422: 1, 1452: 2, 4546: 1, 261: 2, 2279: 1, 473: 1, 3891: 1, 3506: 2, 3224: 1, 3119: 1, 3457: 1, 4116: 3, 624: 1, 603: 2, 1486: 3, 4557: 1, 1263: 1, 1892: 1, 3124: 2, 3223: 1, 88: 1, 2697: 1, 746: 2, 4291: 2, 1833: 1, 3364: 1, 2330: 1, 3978: 2, 194: 1, 82: 2, 1572: 3, 4432: 2, 4738: 1, 652: 1, 2094: 1, 1071: 1, 1097: 1, 635: 1, 917: 2, 1362: 1, 680: 2, 4609: 1, 4761: 1, 1570: 1, 4856: 1, 3422: 1, 2507: 1, 4396: 2, 1821: 1, 2716: 1, 2671: 1, 1395: 1, 1977: 1, 3806: 1, 2538: 1, 1979: 2, 4681: 1, 3639: 1, 598: 1, 2113: 1, 4112: 1, 1488: 2, 4404: 1, 2224: 1, 2039: 1, 1492: 1, 2311: 4, 1191: 2, 1305: 1, 3971: 1, 3423: 1, 1233: 1, 4306: 2, 2658: 1, 306: 2, 2100: 1, 490: 1, 4390: 2, 3765: 1, 3426: 1, 613: 1, 4537: 1, 2654: 1, 1885: 1, 1764: 1, 2779: 1, 1577: 1, 545: 1, 1756: 1, 4484: 1, 2711: 1, 1841: 3, 1699: 1, 2487: 1, 4657: 1, 3887: 2, 1868: 1, 4735: 3, 4435: 1, 1687: 2, 1231: 1, 4: 1, 1777: 1, 4465: 3, 3149: 3, 140: 2, 802: 1, 2306: 1, 1022: 2, 2065: 1, 1148: 1, 2759: 1, 951: 1, 4469: 1, 3740: 1, 2083: 1, 3893: 1, 2504: 1, 166: 1, 498: 1, 3157: 1, 3333: 1, 2832: 2, 1487: 1, 2333: 2, 4686: 1, 235: 1, 2324: 1, 3710: 1, 3192: 1, 4245: 1, 3436: 1, 2981: 1, 4459: 2, 558: 1, 1086: 1, 4402: 1, 776: 1, 3153: 2, 3208: 2, 2287: 1, 3510: 1, 1198: 3, 17: 2, 104: 1, 568: 1, 2421: 1, 3196: 1, 3278: 1, 3013: 1, 2351: 1, 1713: 1, 965: 1, 1147: 1, 2699: 1, 4301: 2, 584: 1, 1212: 1, 1660: 2, 3627: 3, 1194: 1, 293: 1, 2665: 2, 3258: 1, 4807: 1, 1804: 1, 793: 1, 1842: 2, 3419: 1, 2571: 1, 2653: 1, 3221: 2, 230: 1, 4452: 1, 957: 1, 2036: 3, 11: 1, 1519: 2, 1997: 2, 1870: 1, 1735: 2, 633: 1, 1323: 2, 1271: 2, 1733: 1, 3191: 1, 2161: 1, 1932: 1, 974: 2, 1787: 1, 3313: 2, 2977: 1, 2585: 1, 4733: 1, 2031: 1, 892: 2, 3504: 2, 4021: 1, 784: 1, 774: 1, 3231: 2, 865: 1, 352: 1, 3095: 1, 4568: 1, 4660: 1, 593: 2, 3860: 1, 2325: 1, 1322: 1, 4752: 1, 4071: 1, 2546: 1, 4250: 2, 1341: 2, 3238: 1, 3273: 1, 2598: 1, 3696: 1, 3605: 1, 2757: 1, 617: 1, 1732: 1, 1817: 1, 1289: 1, 441: 1, 310: 1, 2095: 1, 2649: 1, 16: 1, 3664: 1, 1887: 1, 920: 1, 4319: 1, 4329: 1, 3763: 1, 2855: 1, 4650: 1, 888: 2, 4263: 1, 3239: 2, 2345: 1, 4518: 2, 2118: 1, 190: 1, 2310: 1, 1961: 1, 4057: 1, 703: 1, 3094: 1, 2273: 1, 1015: 1, 4571: 1, 2929: 1, 3802: 2, 24: 1, 3000: 2, 3652: 2, 4860: 1, 1791: 1, 3819: 1, 4192: 1, 2088: 3, 748: 1, 4635: 1, 187: 1, 1066: 2, 1000: 1, 895: 1, 2489: 1, 4492: 1, 395: 1, 668: 1, 610: 1, 3903: 1, 3051: 1, 2695: 1, 3398: 2, 1063: 1, 4466: 1, 1371: 1, 789: 1, 4562: 1, 1421: 1, 1209: 1, 1400: 1, 4107: 1, 4265: 1, 4427: 2, 1495: 1, 3389: 1, 2922: 1, 2475: 1, 4138: 1, 4683: 1, 4791: 2, 3917: 1, 2964: 1, 329: 1, 3954: 1, 2503: 2, 2086: 1, 770: 1, 2252: 1, 638: 1, 461: 1, 1702: 1, 1812: 1, 4374: 1, 4002: 1, 4100: 2, 2858: 2, 231: 1, 1992: 1, 3081: 2, 1947: 2, 3255: 1, 655: 1, 4436: 2, 1433: 1, 1084: 1, 3853: 1, 3534: 2, 1909: 2, 815: 1, 822: 2, 2228: 1, 2732: 2, 4690: 1, 2111: 1, 642: 1, 1225: 1, 2506: 1, 2029: 1, 653: 1, 2388: 1, 2562: 1, 3981: 1, 4498: 1, 2188: 1, 926: 1, 2788: 1, 2270: 1, 2105: 1, 349: 1, 983: 1, 3590: 1, 4167: 2, 2533: 1, 4334: 1, 3451: 2, 1427: 2, 2047: 1, 2305: 1, 2179: 1, 4505: 1, 4032: 1, 3770: 1, 4366: 1, 210: 1, 3020: 1, 602: 2, 3967: 2, 1473: 1, 443: 2, 4158: 1, 2121: 1, 41: 3, 1563: 1, 4831: 1, 3233: 1, 3711: 1, 1911: 1, 2999: 1, 4531: 1, 3174: 1, 670: 1, 3879: 1, 4640: 1, 2264: 1, 1376: 2, 2191: 1, 3511: 1, 4225: 2, 678: 1, 3482: 1, 3417: 2, 4841: 2, 901: 1, 4188: 1, 2541: 1, 3161: 1, 1218: 1, 4516: 1, 3478: 1, 1465: 1, 4203: 1, 2456: 1, 3430: 1, 2967: 1, 3665: 1, 4340: 1, 1131: 1, 476: 1, 3213: 1, 3724: 2, 3919: 1, 3279: 1, 4081: 2, 2481: 1, 1: 1, 562: 1, 755: 1, 77: 1, 3804: 2, 69: 1, 4042: 1, 1643: 1, 50: 1, 1418: 1, 1466: 1, 4349: 1, 2459: 1, 4863: 1, 1117: 1, 1042: 1, 4385: 1, 2021: 1, 1210: 1, 4420: 2, 2954: 1, 4127: 1, 834: 1, 1774: 1, 2640: 1, 3220: 1, 2648: 1, 649: 1, 4089: 1, 1875: 1, 447: 1, 3401: 1, 2104: 1, 1235: 1, 2519: 1, 44: 1, 977: 1, 1646: 1, 33: 1, 1508: 1, 4574: 1, 1827: 1, 4095: 1, 1076: 1, 3165: 2, 1998: 1, 2084: 1, 4591: 1, 1188: 1, 4045: 2, 1343: 2, 3714: 1, 1460: 1, 3495: 1, 911: 2, 1994: 1, 3559: 1, 3115: 1, 626: 1, 2854: 1, 464: 1, 1196: 1, 4457: 1, 482: 1, 2314: 1, 3076: 1, 4426: 1, 1916: 3, 2525: 1, 620: 1, 927: 1, 1736: 1, 1819: 1, 3798: 1, 437: 2, 3447: 1, 191: 1, 1201: 1, 4005: 1, 3418: 1, 4579: 1, 962: 2, 2869: 1, 389: 1, 4030: 1, 4074: 1, 3505: 1, 4248: 2, 2309: 1, 195: 2, 4437: 2, 3609: 1, 4135: 1, 2693: 1, 3663: 1, 1270: 1, 3503: 1, 838: 1, 875: 1, 2318: 1, 2103: 1, 4536: 1, 3890: 1, 1302: 1, 2897: 1, 3489: 1, 1524: 1, 433: 1, 3431: 1, 2254: 1, 3950: 1, 1050: 1, 973: 1, 4183: 1, 4559: 1, 3212: 1, 118: 1, 101: 1, 3827: 1, 134: 1, 981: 2, 1186: 1, 3677: 2, 268: 1, 4487: 1, 4610: 1, 3112: 1, 2602: 2, 4734: 1, 4128: 1, 2944: 1, 3071: 1, 335: 1, 2787: 1, 2128: 1, 4833: 1, 1398: 1, 3252: 1, 3126: 1, 2747: 1, 1111: 1, 1828: 1, 561: 1, 536: 1, 1226: 1, 3116: 1, 1154: 1, 178: 1, 3771: 1, 2431: 1, 634: 1, 3727: 1, 524: 1, 288: 1, 3350: 1, 2544: 1, 3800: 1, 1193: 2, 1656: 1, 4476: 1, 4379: 1, 2265: 1, 2712: 1, 4739: 1, 1925: 1, 4677: 1, 2891: 1, 4801: 1, 3089: 1, 1546: 1, 2825: 1, 4663: 1, 1261: 1, 2973: 1, 3731: 1, 1030: 1, 1437: 2, 2120: 1, 3357: 1, 250: 1, 2633: 2, 4854: 1, 1818: 1, 3321: 1, 3229: 1, 4619: 1, 2969: 1, 4425: 2, 2953: 1, 961: 1, 3210: 1, 871: 1, 757: 1, 182: 1, 849: 1, 1412: 1, 4786: 1, 3355: 1, 2865: 1, 2010: 1, 2894: 1, 1349: 1, 3375: 1, 2263: 1, 127: 2, 1680: 1, 2400: 1, 295: 1, 1620: 1, 3354: 1, 4303: 1, 842: 1, 3001: 1, 2821: 1, 3921: 1, 542: 1, 1308: 1, 1132: 1, 1703: 1, 1634: 1, 2467: 1, 1594: 1, 3635: 1, 4810: 1, 576: 1, 3533: 1, 1796: 1, 2154: 3, 2463: 1, 291: 1, 3244: 1, 4577: 1, 2213: 1, 1747: 1, 2611: 1, 4282: 1, 1504: 1, 3708: 1, 1094: 1, 4762: 1, 3102: 2, 4033: 1, 1903: 1, 4790: 1, 2471: 1, 196: 1, 3973: 1, 4450: 1, 1730: 1, 3736: 1, 59: 1, 1383: 1, 1692: 1, 3320: 1, 3136: 1, 2572: 1, 1535: 1, 4338: 1, 1792: 1, 3813: 1, 3101: 1, 3874: 1, 3828: 1, 4283: 1, 4823: 1, 3410: 1, 54: 1, 3613: 1, 346: 1, 677: 1, 792: 1, 3216: 1, 924: 1, 292: 1, 2285: 1, 1296: 1, 2480: 1, 4602: 1, 3082: 1, 1179: 1, 4179: 1, 1428: 1, 712: 1, 1070: 2, 4078: 1, 4522: 1, 989: 1, 3132: 1, 3596: 1, 2960: 1, 4326: 1, 720: 1, 878: 1, 3908: 2, 708: 1, 130: 1, 2946: 1, 1141: 1, 2692: 1, 136: 1, 2592: 1, 3488: 1, 1464: 1, 371: 1, 538: 1, 3034: 1, 3206: 1, 4712: 1, 1964: 1, 1146: 1, 769: 1, 590: 1, 397: 1, 2470: 1, 1971: 1, 2817: 1, 4453: 1, 1538: 1, 2064: 1, 3646: 1, 3137: 1, 1438: 1, 4214: 1, 607: 1, 1360: 1, 2316: 1, 220: 1, 3100: 1, 1150: 1, 2397: 1, 4510: 1, 38: 1, 2014: 1, 4745: 1, 2619: 1, 183: 1, 380: 1, 374: 1, 4063: 1, 4603: 1, 1130: 1, 366: 1, 3773: 1, 4698: 1, 1237: 1, 4501: 1}\n"
     ]
    }
   ],
   "source": [
    "print(d) "
   ]
  },
  {
   "cell_type": "code",
   "execution_count": 33,
   "id": "9971e91a",
   "metadata": {},
   "outputs": [],
   "source": [
    "a = sorted(d.items(), key=lambda item: item[1], reverse=True)\n",
    "# print(a)"
   ]
  },
  {
   "cell_type": "code",
   "execution_count": 34,
   "id": "079d7f81",
   "metadata": {},
   "outputs": [],
   "source": [
    "def getNumberFrist(d, n):\n",
    "    number = n if n<len(d) else len(d)\n",
    "    count = 0\n",
    "    arr = [];\n",
    "    for key, v in d:\n",
    "        if (count < number):\n",
    "            arr.append(key)\n",
    "            count = count +1;\n",
    "        else:\n",
    "            break\n",
    "    return arr;                 \n",
    "    "
   ]
  },
  {
   "cell_type": "code",
   "execution_count": 35,
   "id": "8fd0ae0b",
   "metadata": {},
   "outputs": [],
   "source": [
    "arr = getNumberFrist(a, 250)\n",
    "# print(arr)"
   ]
  },
  {
   "cell_type": "code",
   "execution_count": 36,
   "id": "d3dff046",
   "metadata": {},
   "outputs": [],
   "source": [
    "X2 = X_Train.iloc[:,arr]"
   ]
  },
  {
   "cell_type": "code",
   "execution_count": 37,
   "id": "223aebe3",
   "metadata": {
    "scrolled": true
   },
   "outputs": [
    {
     "name": "stdout",
     "output_type": "stream",
     "text": [
      "(53, 1)\n"
     ]
    }
   ],
   "source": [
    "print(Y_Train.shape)"
   ]
  },
  {
   "cell_type": "code",
   "execution_count": 38,
   "id": "b3e679d5",
   "metadata": {},
   "outputs": [
    {
     "name": "stdout",
     "output_type": "stream",
     "text": [
      "(53, 250)\n"
     ]
    }
   ],
   "source": [
    "print(X2.shape)"
   ]
  },
  {
   "cell_type": "code",
   "execution_count": 39,
   "id": "d96ae7ea",
   "metadata": {},
   "outputs": [
    {
     "data": {
      "text/html": [
       "<style>#sk-container-id-3 {color: black;}#sk-container-id-3 pre{padding: 0;}#sk-container-id-3 div.sk-toggleable {background-color: white;}#sk-container-id-3 label.sk-toggleable__label {cursor: pointer;display: block;width: 100%;margin-bottom: 0;padding: 0.3em;box-sizing: border-box;text-align: center;}#sk-container-id-3 label.sk-toggleable__label-arrow:before {content: \"▸\";float: left;margin-right: 0.25em;color: #696969;}#sk-container-id-3 label.sk-toggleable__label-arrow:hover:before {color: black;}#sk-container-id-3 div.sk-estimator:hover label.sk-toggleable__label-arrow:before {color: black;}#sk-container-id-3 div.sk-toggleable__content {max-height: 0;max-width: 0;overflow: hidden;text-align: left;background-color: #f0f8ff;}#sk-container-id-3 div.sk-toggleable__content pre {margin: 0.2em;color: black;border-radius: 0.25em;background-color: #f0f8ff;}#sk-container-id-3 input.sk-toggleable__control:checked~div.sk-toggleable__content {max-height: 200px;max-width: 100%;overflow: auto;}#sk-container-id-3 input.sk-toggleable__control:checked~label.sk-toggleable__label-arrow:before {content: \"▾\";}#sk-container-id-3 div.sk-estimator input.sk-toggleable__control:checked~label.sk-toggleable__label {background-color: #d4ebff;}#sk-container-id-3 div.sk-label input.sk-toggleable__control:checked~label.sk-toggleable__label {background-color: #d4ebff;}#sk-container-id-3 input.sk-hidden--visually {border: 0;clip: rect(1px 1px 1px 1px);clip: rect(1px, 1px, 1px, 1px);height: 1px;margin: -1px;overflow: hidden;padding: 0;position: absolute;width: 1px;}#sk-container-id-3 div.sk-estimator {font-family: monospace;background-color: #f0f8ff;border: 1px dotted black;border-radius: 0.25em;box-sizing: border-box;margin-bottom: 0.5em;}#sk-container-id-3 div.sk-estimator:hover {background-color: #d4ebff;}#sk-container-id-3 div.sk-parallel-item::after {content: \"\";width: 100%;border-bottom: 1px solid gray;flex-grow: 1;}#sk-container-id-3 div.sk-label:hover label.sk-toggleable__label {background-color: #d4ebff;}#sk-container-id-3 div.sk-serial::before {content: \"\";position: absolute;border-left: 1px solid gray;box-sizing: border-box;top: 0;bottom: 0;left: 50%;z-index: 0;}#sk-container-id-3 div.sk-serial {display: flex;flex-direction: column;align-items: center;background-color: white;padding-right: 0.2em;padding-left: 0.2em;position: relative;}#sk-container-id-3 div.sk-item {position: relative;z-index: 1;}#sk-container-id-3 div.sk-parallel {display: flex;align-items: stretch;justify-content: center;background-color: white;position: relative;}#sk-container-id-3 div.sk-item::before, #sk-container-id-3 div.sk-parallel-item::before {content: \"\";position: absolute;border-left: 1px solid gray;box-sizing: border-box;top: 0;bottom: 0;left: 50%;z-index: -1;}#sk-container-id-3 div.sk-parallel-item {display: flex;flex-direction: column;z-index: 1;position: relative;background-color: white;}#sk-container-id-3 div.sk-parallel-item:first-child::after {align-self: flex-end;width: 50%;}#sk-container-id-3 div.sk-parallel-item:last-child::after {align-self: flex-start;width: 50%;}#sk-container-id-3 div.sk-parallel-item:only-child::after {width: 0;}#sk-container-id-3 div.sk-dashed-wrapped {border: 1px dashed gray;margin: 0 0.4em 0.5em 0.4em;box-sizing: border-box;padding-bottom: 0.4em;background-color: white;}#sk-container-id-3 div.sk-label label {font-family: monospace;font-weight: bold;display: inline-block;line-height: 1.2em;}#sk-container-id-3 div.sk-label-container {text-align: center;}#sk-container-id-3 div.sk-container {/* jupyter's `normalize.less` sets `[hidden] { display: none; }` but bootstrap.min.css set `[hidden] { display: none !important; }` so we also need the `!important` here to be able to override the default hidden behavior on the sphinx rendered scikit-learn.org. See: https://github.com/scikit-learn/scikit-learn/issues/21755 */display: inline-block !important;position: relative;}#sk-container-id-3 div.sk-text-repr-fallback {display: none;}</style><div id=\"sk-container-id-3\" class=\"sk-top-container\"><div class=\"sk-text-repr-fallback\"><pre>RandomForestClassifier(n_estimators=500)</pre><b>In a Jupyter environment, please rerun this cell to show the HTML representation or trust the notebook. <br />On GitHub, the HTML representation is unable to render, please try loading this page with nbviewer.org.</b></div><div class=\"sk-container\" hidden><div class=\"sk-item\"><div class=\"sk-estimator sk-toggleable\"><input class=\"sk-toggleable__control sk-hidden--visually\" id=\"sk-estimator-id-3\" type=\"checkbox\" checked><label for=\"sk-estimator-id-3\" class=\"sk-toggleable__label sk-toggleable__label-arrow\">RandomForestClassifier</label><div class=\"sk-toggleable__content\"><pre>RandomForestClassifier(n_estimators=500)</pre></div></div></div></div></div>"
      ],
      "text/plain": [
       "RandomForestClassifier(n_estimators=500)"
      ]
     },
     "execution_count": 39,
     "metadata": {},
     "output_type": "execute_result"
    }
   ],
   "source": [
    "rf_model.fit(X2,Y_Train.values.ravel())\n"
   ]
  },
  {
   "cell_type": "code",
   "execution_count": 40,
   "id": "ec71abc0",
   "metadata": {},
   "outputs": [],
   "source": [
    "X_Test1 = X_Test.iloc[:, arr]\n"
   ]
  },
  {
   "cell_type": "code",
   "execution_count": 41,
   "id": "046e1af9",
   "metadata": {},
   "outputs": [],
   "source": [
    "pred_y = rf_model.predict(X_Test1)"
   ]
  },
  {
   "cell_type": "code",
   "execution_count": 42,
   "id": "57db949b",
   "metadata": {},
   "outputs": [],
   "source": [
    "accRF = metrics.accuracy_score(Y_Test, pred_y)\n"
   ]
  },
  {
   "cell_type": "code",
   "execution_count": 43,
   "id": "84b52068",
   "metadata": {},
   "outputs": [
    {
     "name": "stdout",
     "output_type": "stream",
     "text": [
      "0.6666666666666666\n"
     ]
    }
   ],
   "source": [
    "print(accRF)"
   ]
  },
  {
   "cell_type": "code",
   "execution_count": null,
   "id": "4623a865",
   "metadata": {},
   "outputs": [],
   "source": []
  }
 ],
 "metadata": {
  "kernelspec": {
   "display_name": "Python 3 (ipykernel)",
   "language": "python",
   "name": "python3"
  },
  "language_info": {
   "codemirror_mode": {
    "name": "ipython",
    "version": 3
   },
   "file_extension": ".py",
   "mimetype": "text/x-python",
   "name": "python",
   "nbconvert_exporter": "python",
   "pygments_lexer": "ipython3",
   "version": "3.9.13"
  }
 },
 "nbformat": 4,
 "nbformat_minor": 5
}
