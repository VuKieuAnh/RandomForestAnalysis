{
 "cells": [
  {
   "cell_type": "code",
   "execution_count": 1,
   "id": "3ab485eb",
   "metadata": {},
   "outputs": [],
   "source": [
    "import pandas as pd\n",
    "from sklearn.tree import DecisionTreeClassifier # Import Decision Tree Classifier\n",
    "from sklearn.model_selection import train_test_split # Import train_test_split function\n",
    "\n",
    "from sklearn import metrics #Import scikit-learn metrics module for accuracy calculation\n",
    "from sklearn.ensemble import RandomForestClassifier \n",
    "\n",
    "import random\n",
    "import numpy as np\n",
    "import math\n",
    "from sklearn import tree\n",
    "from sklearn.naive_bayes import GaussianNB\n",
    "from sklearn.naive_bayes import MultinomialNB, BernoulliNB\n",
    "from sklearn.svm import SVC\n",
    "from sklearn.naive_bayes import GaussianNB\n",
    "from sklearn.naive_bayes import MultinomialNB, BernoulliNB\n",
    "from sklearn.svm import SVC"
   ]
  },
  {
   "cell_type": "code",
   "execution_count": 2,
   "id": "4e8b14af",
   "metadata": {},
   "outputs": [],
   "source": [
    "def indexOf(d, v):\n",
    "    for i in d:\n",
    "        if (i == v):\n",
    "            return True\n",
    "    return False   "
   ]
  },
  {
   "cell_type": "code",
   "execution_count": 3,
   "id": "dbaf4f6e",
   "metadata": {},
   "outputs": [],
   "source": [
    "def get_feature(tree):\n",
    "    features  = [i for i in tree.tree_.feature]\n",
    "    featureIndex = [num for num in features if num != -2]\n",
    "    return featureIndex"
   ]
  },
  {
   "cell_type": "code",
   "execution_count": 4,
   "id": "bba5723c",
   "metadata": {},
   "outputs": [],
   "source": [
    "def getNumberFrist(d, n):\n",
    "    number = n if n<len(d) else len(d)\n",
    "    count = 0\n",
    "    arr = [];\n",
    "    for key, v in d:\n",
    "        if (count < number):\n",
    "            arr.append(key)\n",
    "            count = count +1;\n",
    "        else:\n",
    "            break\n",
    "    return arr;    "
   ]
  },
  {
   "cell_type": "code",
   "execution_count": 5,
   "id": "fde4c29a",
   "metadata": {},
   "outputs": [],
   "source": [
    "def buildRFwithAllFeature(df, n):\n",
    "    df.columns.values[0] = \"class\"\n",
    "    X = df.iloc[:,df.columns !='class']\n",
    "    Y = df[['class']]\n",
    "    d={}\n",
    "    acc_RF = list()\n",
    "    for i in range(n):\n",
    "        X_Train, X_Test, Y_Train, Y_Test = train_test_split(X, Y, train_size=0.7, random_state=np.random.randint(0, 100000))        \n",
    "        r,c = df.shape\n",
    "        rf_model.fit(X_Train,Y_Train.values.ravel())\n",
    "        pred_y = rf_model.predict(X_Test)\n",
    "        accRFi = metrics.accuracy_score(Y_Test, pred_y)\n",
    "        acc_RF.append(accRFi)\n",
    "        for idx, dtree in enumerate(rf_model.estimators_): \n",
    "            a = get_feature(tree = dtree)\n",
    "            for i in a:\n",
    "                if(indexOf(d, i)):\n",
    "                    number = d.get(i)\n",
    "                    number = number +1;\n",
    "                    d[i] = number\n",
    "                else:\n",
    "                    d.update({i:1})   \n",
    "    print (\"Gia tri trung binh\")\n",
    "    print (np.mean(acc_RF))    ## gia tri trung binh  \n",
    "    print (\"Do lech chuan\")\n",
    "    print (np.std(acc_RF))     ## Do lech chuan\n",
    "    return d"
   ]
  },
  {
   "cell_type": "code",
   "execution_count": 8,
   "id": "e8a04dd4",
   "metadata": {},
   "outputs": [],
   "source": [
    "def buildRFwithArrFeature(df, n, arrFeature):\n",
    "    df.columns.values[0] = \"class\"\n",
    "    X = df.iloc[:,df.columns !='class']\n",
    "    Y = df[['class']]\n",
    "    acc_RF = list()\n",
    "    for i in range(n):\n",
    "        X_Train, X_Test, Y_Train, Y_Test = train_test_split(X, Y, train_size=0.7, random_state=np.random.randint(0, 100000))        \n",
    "        X_Train1 = X_Train.iloc[:,arrFeature]\n",
    "        X_Test1 = X_Test.iloc[:, arrFeature]\n",
    "        rf_model.fit(X_Train1,Y_Train.values.ravel())\n",
    "        pred_y = rf_model.predict(X_Test1)\n",
    "        accRFi = metrics.accuracy_score(Y_Test, pred_y)\n",
    "        acc_RF.append(accRFi)\n",
    "    print (\"Gia tri trung binh\")\n",
    "    print (np.mean(acc_RF))    ## gia tri trung binh  \n",
    "    print (\"Do lech chuan\")\n",
    "    print (np.std(acc_RF))     ## Do lech chuan "
   ]
  },
  {
   "cell_type": "code",
   "execution_count": 9,
   "id": "a74ca032",
   "metadata": {},
   "outputs": [],
   "source": [
    "def buidSVCAllFeature(df, n):\n",
    "    df.columns.values[0] = \"class\"\n",
    "    X = df.iloc[:,df.columns !='class']\n",
    "    Y = df[['class']]\n",
    "    acc_SVC = list()\n",
    "    for i in range(n):\n",
    "        X_Train, X_Test, Y_Train, Y_Test = train_test_split(X, Y, train_size=0.7, random_state=np.random.randint(0, 100000))        \n",
    "        svclassifier.fit(X_Train, Y_Train.values.ravel())\n",
    "        y_pred = svclassifier.predict(X_Test) \n",
    "        accI = metrics.accuracy_score(Y_Test, y_pred);\n",
    "        acc_SVC.append(accI);\n",
    "    print (\"Gia tri trung binh\")\n",
    "    print (np.mean(acc_SVC))    ## gia tri trung binh      \n",
    "    "
   ]
  },
  {
   "cell_type": "code",
   "execution_count": 10,
   "id": "55fd2415",
   "metadata": {},
   "outputs": [],
   "source": [
    "def buidSVCSSelectedFeature(df, n, arrFeature):\n",
    "    df.columns.values[0] = \"class\"\n",
    "    X = df.iloc[:,df.columns !='class']\n",
    "    Y = df[['class']]\n",
    "    d={}\n",
    "    acc_SVC = list()\n",
    "    for i in range(n):\n",
    "        X_Train, X_Test, Y_Train, Y_Test = train_test_split(X, Y, train_size=0.7, random_state=np.random.randint(0, 100000))        \n",
    "        X_Train1 = X_Train.iloc[:,arrFeature]\n",
    "        X_Test1 = X_Test.iloc[:, arrFeature]\n",
    "        svclassifier.fit(X_Train1, Y_Train.values.ravel())\n",
    "        y_pred = svclassifier.predict(X_Test1) \n",
    "        accI = metrics.accuracy_score(Y_Test, y_pred);\n",
    "        acc_SVC.append(accI);\n",
    "    print (\"Gia tri trung binh\")\n",
    "    print (np.mean(acc_SVC))    ## gia tri trung binh      "
   ]
  },
  {
   "cell_type": "code",
   "execution_count": 11,
   "id": "b61ef4cb",
   "metadata": {},
   "outputs": [],
   "source": [
    "def buidNaivebayesAllFeature(df, n):\n",
    "    df.columns.values[0] = \"class\"\n",
    "    X = df.iloc[:,df.columns !='class']\n",
    "    Y = df[['class']]\n",
    "    d={}\n",
    "    acc_SVC = list()\n",
    "    for i in range(n):\n",
    "        X_Train, X_Test, Y_Train, Y_Test = train_test_split(X, Y, train_size=0.7, random_state=np.random.randint(0, 100000))        \n",
    "        model_navie.fit(X_Train, Y_Train.values.ravel()) \n",
    "        prediction = model_navie.predict(X_Test)   \n",
    "        accI = metrics.accuracy_score(Y_Test, prediction);\n",
    "        acc_SVC.append(accI);\n",
    "    print (\"Gia tri trung binh\")\n",
    "    print (np.mean(acc_SVC))    ## gia tri trung binh   "
   ]
  },
  {
   "cell_type": "code",
   "execution_count": 12,
   "id": "084aa9ff",
   "metadata": {},
   "outputs": [],
   "source": [
    "def buidNaivebayesSelectedFeature(df, n, arrFeature):\n",
    "    df.columns.values[0] = \"class\"\n",
    "    X = df.iloc[:,df.columns !='class']\n",
    "    Y = df[['class']]\n",
    "    d={}\n",
    "    acc_SVC = list()\n",
    "    for i in range(n):\n",
    "        X_Train, X_Test, Y_Train, Y_Test = train_test_split(X, Y, train_size=0.7, random_state=np.random.randint(0, 100000))        \n",
    "        X_Train1 = X_Train.iloc[:,arrFeature]\n",
    "        X_Test1 = X_Test.iloc[:, arrFeature]\n",
    "        model_navie.fit(X_Train1, Y_Train.values.ravel()) \n",
    "        prediction = model_navie.predict(X_Test1)   \n",
    "        accI = metrics.accuracy_score(Y_Test, prediction);\n",
    "        acc_SVC.append(accI);\n",
    "    print (\"Gia tri trung binh\")\n",
    "    print (np.mean(acc_SVC))    ## gia tri trung binh"
   ]
  },
  {
   "cell_type": "code",
   "execution_count": 13,
   "id": "8f383957",
   "metadata": {},
   "outputs": [],
   "source": [
    "data = df = pd.read_csv(\"data/Brain.csv\")\n",
    "r,c = df.shape\n",
    "rf_model = RandomForestClassifier(n_estimators=500)"
   ]
  },
  {
   "cell_type": "code",
   "execution_count": 14,
   "id": "56dcba5e",
   "metadata": {},
   "outputs": [
    {
     "name": "stdout",
     "output_type": "stream",
     "text": [
      "Gia tri trung binh\n",
      "0.6538461538461539\n",
      "Do lech chuan\n",
      "0.1252216968930747\n"
     ]
    }
   ],
   "source": [
    "d = buildRFwithAllFeature(df, 20)"
   ]
  },
  {
   "cell_type": "code",
   "execution_count": 15,
   "id": "9971e91a",
   "metadata": {},
   "outputs": [],
   "source": [
    "a = sorted(d.items(), key=lambda item: item[1], reverse=True)"
   ]
  },
  {
   "cell_type": "code",
   "execution_count": 19,
   "id": "8fd0ae0b",
   "metadata": {},
   "outputs": [
    {
     "name": "stdout",
     "output_type": "stream",
     "text": [
      "Gia tri trung binh\n",
      "0.8307692307692307\n",
      "Do lech chuan\n",
      "0.136741452574086\n"
     ]
    }
   ],
   "source": [
    "number1 = c*20/100;    \n",
    "arr1 = getNumberFrist(a, number1)\n",
    "buildRFwithArrFeature(df, 20, arr1)"
   ]
  },
  {
   "cell_type": "code",
   "execution_count": 20,
   "id": "1ea930f4",
   "metadata": {},
   "outputs": [
    {
     "name": "stdout",
     "output_type": "stream",
     "text": [
      "Gia tri trung binh\n",
      "0.8653846153846155\n",
      "Do lech chuan\n",
      "0.09060937684145959\n"
     ]
    }
   ],
   "source": [
    "number2 = c*10/100;    \n",
    "arr2 = getNumberFrist(a, number2)\n",
    "buildRFwithArrFeature(df, 20, arr2)"
   ]
  },
  {
   "cell_type": "code",
   "execution_count": 21,
   "id": "6c6d045a",
   "metadata": {},
   "outputs": [
    {
     "name": "stdout",
     "output_type": "stream",
     "text": [
      "Gia tri trung binh\n",
      "0.9000000000000001\n",
      "Do lech chuan\n",
      "0.09760444261884246\n"
     ]
    }
   ],
   "source": [
    "number3 = c*5/100;    \n",
    "arr3 = getNumberFrist(a, number3)\n",
    "buildRFwithArrFeature(df, 20, arr3)"
   ]
  },
  {
   "cell_type": "code",
   "execution_count": 22,
   "id": "6acf7349",
   "metadata": {},
   "outputs": [],
   "source": [
    "svclassifier = SVC(kernel='rbf')"
   ]
  },
  {
   "cell_type": "code",
   "execution_count": 23,
   "id": "b476bcee",
   "metadata": {},
   "outputs": [
    {
     "name": "stdout",
     "output_type": "stream",
     "text": [
      "Gia tri trung binh\n",
      "0.5230769230769231\n"
     ]
    }
   ],
   "source": [
    "buidSVCAllFeature(df, 20)"
   ]
  },
  {
   "cell_type": "code",
   "execution_count": 24,
   "id": "c200d1b8",
   "metadata": {},
   "outputs": [
    {
     "name": "stdout",
     "output_type": "stream",
     "text": [
      "Gia tri trung binh\n",
      "0.7884615384615385\n"
     ]
    }
   ],
   "source": [
    "buidSVCSSelectedFeature(df, 20, arr1)"
   ]
  },
  {
   "cell_type": "code",
   "execution_count": 25,
   "id": "b262902c",
   "metadata": {},
   "outputs": [
    {
     "name": "stdout",
     "output_type": "stream",
     "text": [
      "Gia tri trung binh\n",
      "0.8615384615384615\n"
     ]
    }
   ],
   "source": [
    "buidSVCSSelectedFeature(df, 20, arr2)"
   ]
  },
  {
   "cell_type": "code",
   "execution_count": 26,
   "id": "53ab4f60",
   "metadata": {},
   "outputs": [
    {
     "name": "stdout",
     "output_type": "stream",
     "text": [
      "Gia tri trung binh\n",
      "0.823076923076923\n"
     ]
    }
   ],
   "source": [
    "buidSVCSSelectedFeature(df, 20, arr3)"
   ]
  },
  {
   "cell_type": "code",
   "execution_count": 27,
   "id": "321af6d1",
   "metadata": {},
   "outputs": [],
   "source": [
    "model_navie = GaussianNB()"
   ]
  },
  {
   "cell_type": "code",
   "execution_count": 28,
   "id": "b2b7e22c",
   "metadata": {},
   "outputs": [
    {
     "name": "stdout",
     "output_type": "stream",
     "text": [
      "Gia tri trung binh\n",
      "0.4884615384615384\n"
     ]
    }
   ],
   "source": [
    "buidNaivebayesAllFeature(df, 20)"
   ]
  },
  {
   "cell_type": "code",
   "execution_count": 29,
   "id": "c55ac174",
   "metadata": {},
   "outputs": [
    {
     "name": "stdout",
     "output_type": "stream",
     "text": [
      "Gia tri trung binh\n",
      "0.7038461538461539\n"
     ]
    }
   ],
   "source": [
    "buidNaivebayesSelectedFeature(df, 20, arr1)"
   ]
  },
  {
   "cell_type": "code",
   "execution_count": 30,
   "id": "645af3e7",
   "metadata": {},
   "outputs": [
    {
     "name": "stdout",
     "output_type": "stream",
     "text": [
      "Gia tri trung binh\n",
      "0.7153846153846153\n"
     ]
    }
   ],
   "source": [
    "buidNaivebayesSelectedFeature(df, 20, arr2)"
   ]
  },
  {
   "cell_type": "code",
   "execution_count": 31,
   "id": "347eb4da",
   "metadata": {},
   "outputs": [
    {
     "name": "stdout",
     "output_type": "stream",
     "text": [
      "Gia tri trung binh\n",
      "0.7653846153846154\n"
     ]
    }
   ],
   "source": [
    "buidNaivebayesSelectedFeature(df, 20, arr3)"
   ]
  },
  {
   "cell_type": "code",
   "execution_count": null,
   "id": "a2fd2db0",
   "metadata": {},
   "outputs": [],
   "source": []
  }
 ],
 "metadata": {
  "kernelspec": {
   "display_name": "Python 3 (ipykernel)",
   "language": "python",
   "name": "python3"
  },
  "language_info": {
   "codemirror_mode": {
    "name": "ipython",
    "version": 3
   },
   "file_extension": ".py",
   "mimetype": "text/x-python",
   "name": "python",
   "nbconvert_exporter": "python",
   "pygments_lexer": "ipython3",
   "version": "3.9.13"
  }
 },
 "nbformat": 4,
 "nbformat_minor": 5
}
