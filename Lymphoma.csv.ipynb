{
 "cells": [
  {
   "cell_type": "code",
   "execution_count": 1,
   "id": "3ab485eb",
   "metadata": {},
   "outputs": [],
   "source": [
    "import pandas as pd\n",
    "from sklearn.tree import DecisionTreeClassifier # Import Decision Tree Classifier\n",
    "from sklearn.model_selection import train_test_split # Import train_test_split function\n",
    "\n",
    "from sklearn import metrics #Import scikit-learn metrics module for accuracy calculation\n",
    "from sklearn.ensemble import RandomForestClassifier \n",
    "\n",
    "import random\n",
    "import numpy as np\n",
    "import math\n",
    "from sklearn import tree"
   ]
  },
  {
   "cell_type": "code",
   "execution_count": 2,
   "id": "4e8b14af",
   "metadata": {},
   "outputs": [],
   "source": [
    "def indexOf(d, v):\n",
    "    for i in d:\n",
    "        if (i == v):\n",
    "            return True\n",
    "    return False   "
   ]
  },
  {
   "cell_type": "code",
   "execution_count": 3,
   "id": "dbaf4f6e",
   "metadata": {},
   "outputs": [],
   "source": [
    "def get_feature(tree):\n",
    "    features  = [i for i in tree.tree_.feature]\n",
    "    featureIndex = [num for num in features if num != -2]\n",
    "    return featureIndex"
   ]
  },
  {
   "cell_type": "code",
   "execution_count": 4,
   "id": "bba5723c",
   "metadata": {},
   "outputs": [],
   "source": [
    "def getNumberFrist(d, n):\n",
    "    number = n if n<len(d) else len(d)\n",
    "    count = 0\n",
    "    arr = [];\n",
    "    for key, v in d:\n",
    "        if (count < number):\n",
    "            arr.append(key)\n",
    "            count = count +1;\n",
    "        else:\n",
    "            break\n",
    "    return arr;    "
   ]
  },
  {
   "cell_type": "code",
   "execution_count": 5,
   "id": "8f383957",
   "metadata": {},
   "outputs": [],
   "source": [
    "data = df = pd.read_csv(\"data/Lymphoma.csv\")\n",
    "r,c = df.shape\n",
    "rf_model = RandomForestClassifier(n_estimators=500)"
   ]
  },
  {
   "cell_type": "code",
   "execution_count": 6,
   "id": "1bc77054",
   "metadata": {},
   "outputs": [],
   "source": [
    "def buildRFwithAllFeature(df, n):\n",
    "    df.columns.values[0] = \"class\"\n",
    "    X = df.iloc[:,df.columns !='class']\n",
    "    Y = df[['class']]\n",
    "    d={}\n",
    "    acc_RF = list()\n",
    "    for i in range(n):\n",
    "        X_Train, X_Test, Y_Train, Y_Test = train_test_split(X, Y, train_size=0.7, random_state=np.random.randint(0, 100000))        \n",
    "        r,c = df.shape\n",
    "        rf_model.fit(X_Train,Y_Train.values.ravel())\n",
    "        pred_y = rf_model.predict(X_Test)\n",
    "        accRFi = metrics.accuracy_score(Y_Test, pred_y)\n",
    "        acc_RF.append(accRFi)\n",
    "        for idx, dtree in enumerate(rf_model.estimators_): \n",
    "            a = get_feature(tree = dtree)\n",
    "            for i in a:\n",
    "                if(indexOf(d, i)):\n",
    "                    number = d.get(i)\n",
    "                    number = number +1;\n",
    "                    d[i] = number\n",
    "                else:\n",
    "                    d.update({i:1})   \n",
    "    print (\"Gia tri trung binh\")\n",
    "    print (np.mean(acc_RF))    ## gia tri trung binh  \n",
    "    print (\"Do lech chuan\")\n",
    "    print (np.std(acc_RF))     ## Do lech chuan\n",
    "    return d\n",
    "    "
   ]
  },
  {
   "cell_type": "code",
   "execution_count": 7,
   "id": "50f86988",
   "metadata": {},
   "outputs": [],
   "source": [
    "def buildRFwithArrFeature(df, n, arrFeatur):\n",
    "    df.columns.values[0] = \"class\"\n",
    "    X = df.iloc[:,df.columns !='class']\n",
    "    Y = df[['class']]\n",
    "    d={}\n",
    "    acc_RF = list()\n",
    "    for i in range(n):\n",
    "        X_Train, X_Test, Y_Train, Y_Test = train_test_split(X, Y, train_size=0.7, random_state=np.random.randint(0, 100000))        \n",
    "        X_Train1 = X_Train.iloc[:,arrFeatur]\n",
    "        X_Test1 = X_Test.iloc[:, arr]\n",
    "        rf_model.fit(X_Train1,Y_Train.values.ravel())\n",
    "        pred_y = rf_model.predict(X_Test1)\n",
    "        accRFi = metrics.accuracy_score(Y_Test, pred_y)\n",
    "        acc_RF.append(accRFi)\n",
    "    print (\"Gia tri trung binh\")\n",
    "    print (np.mean(acc_RF))    ## gia tri trung binh  \n",
    "    print (\"Do lech chuan\")\n",
    "    print (np.std(acc_RF))     ## Do lech chuan "
   ]
  },
  {
   "cell_type": "code",
   "execution_count": 8,
   "id": "56dcba5e",
   "metadata": {},
   "outputs": [
    {
     "name": "stdout",
     "output_type": "stream",
     "text": [
      "Gia tri trung binh\n",
      "0.9421052631578946\n",
      "Do lech chuan\n",
      "0.08632220772029855\n"
     ]
    }
   ],
   "source": [
    "d = buildRFwithAllFeature(df, 20)"
   ]
  },
  {
   "cell_type": "code",
   "execution_count": 9,
   "id": "9971e91a",
   "metadata": {},
   "outputs": [],
   "source": [
    "a = sorted(d.items(), key=lambda item: item[1], reverse=True)"
   ]
  },
  {
   "cell_type": "code",
   "execution_count": 10,
   "id": "8fd0ae0b",
   "metadata": {},
   "outputs": [],
   "source": [
    "number = c*20/100;    \n",
    "arr = getNumberFrist(a, number)"
   ]
  },
  {
   "cell_type": "code",
   "execution_count": 11,
   "id": "b0fb3445",
   "metadata": {},
   "outputs": [
    {
     "name": "stdout",
     "output_type": "stream",
     "text": [
      "Gia tri trung binh\n",
      "0.9947368421052631\n",
      "Do lech chuan\n",
      "0.02294157338705618\n"
     ]
    }
   ],
   "source": [
    "buildRFwithArrFeature(df, 20, arr)"
   ]
  },
  {
   "cell_type": "code",
   "execution_count": 12,
   "id": "1ea930f4",
   "metadata": {},
   "outputs": [],
   "source": [
    "number = c*10/100;    \n",
    "arr = getNumberFrist(a, number)"
   ]
  },
  {
   "cell_type": "code",
   "execution_count": 13,
   "id": "f1f7d66b",
   "metadata": {},
   "outputs": [
    {
     "name": "stdout",
     "output_type": "stream",
     "text": [
      "Gia tri trung binh\n",
      "0.9921052631578948\n",
      "Do lech chuan\n",
      "0.025103663195182785\n"
     ]
    }
   ],
   "source": [
    "buildRFwithArrFeature(df, 20, arr)"
   ]
  },
  {
   "cell_type": "code",
   "execution_count": 14,
   "id": "6c6d045a",
   "metadata": {},
   "outputs": [
    {
     "name": "stdout",
     "output_type": "stream",
     "text": [
      "Gia tri trung binh\n",
      "1.0\n",
      "Do lech chuan\n",
      "0.0\n"
     ]
    }
   ],
   "source": [
    "number = c*5/100;    \n",
    "arr = getNumberFrist(a, number)\n",
    "buildRFwithArrFeature(df, 20, arr)"
   ]
  },
  {
   "cell_type": "code",
   "execution_count": null,
   "id": "2a2fd79a",
   "metadata": {},
   "outputs": [],
   "source": []
  }
 ],
 "metadata": {
  "kernelspec": {
   "display_name": "Python 3 (ipykernel)",
   "language": "python",
   "name": "python3"
  },
  "language_info": {
   "codemirror_mode": {
    "name": "ipython",
    "version": 3
   },
   "file_extension": ".py",
   "mimetype": "text/x-python",
   "name": "python",
   "nbconvert_exporter": "python",
   "pygments_lexer": "ipython3",
   "version": "3.9.13"
  }
 },
 "nbformat": 4,
 "nbformat_minor": 5
}
