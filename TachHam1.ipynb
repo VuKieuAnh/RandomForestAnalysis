{
 "cells": [
  {
   "cell_type": "code",
   "execution_count": 81,
   "id": "3ab485eb",
   "metadata": {},
   "outputs": [],
   "source": [
    "import pandas as pd\n",
    "from sklearn.tree import DecisionTreeClassifier # Import Decision Tree Classifier\n",
    "from sklearn.model_selection import train_test_split # Import train_test_split function\n",
    "\n",
    "from sklearn import metrics #Import scikit-learn metrics module for accuracy calculation\n",
    "from sklearn.ensemble import RandomForestClassifier \n",
    "\n",
    "import random\n",
    "import numpy as np\n",
    "import math\n",
    "from sklearn import tree"
   ]
  },
  {
   "cell_type": "code",
   "execution_count": 82,
   "id": "8f383957",
   "metadata": {},
   "outputs": [],
   "source": [
    "data = df = pd.read_csv(\"data/Breast2classes.csv\")\n",
    "df.columns.values[0] = \"class\"\n",
    "X = df.iloc[:,df.columns !='class']\n",
    "Y = df[['class']]"
   ]
  },
  {
   "cell_type": "code",
   "execution_count": 83,
   "id": "03d2d630",
   "metadata": {},
   "outputs": [
    {
     "name": "stdout",
     "output_type": "stream",
     "text": [
      "77 4870\n"
     ]
    }
   ],
   "source": [
    "X_Train, X_Test, Y_Train, Y_Test = train_test_split(X, Y, train_size=0.7, random_state=np.random.randint(0, 100000))        \n",
    "r,c = df.shape\n",
    "print(r, c)"
   ]
  },
  {
   "cell_type": "code",
   "execution_count": 84,
   "id": "c8e8ada0",
   "metadata": {},
   "outputs": [],
   "source": [
    "rf_model = RandomForestClassifier(n_estimators=500)\n",
    "rf_model.fit(X_Train,Y_Train.values.ravel())\n",
    "pred_y = rf_model.predict(X_Test)\n",
    "accRF = metrics.accuracy_score(Y_Test, pred_y)"
   ]
  },
  {
   "cell_type": "code",
   "execution_count": 85,
   "id": "4b10efcb",
   "metadata": {},
   "outputs": [
    {
     "name": "stdout",
     "output_type": "stream",
     "text": [
      "0.5833333333333334\n"
     ]
    }
   ],
   "source": [
    "print(accRF)"
   ]
  },
  {
   "cell_type": "code",
   "execution_count": 86,
   "id": "146b65f1",
   "metadata": {},
   "outputs": [],
   "source": [
    "def get_feature(tree):\n",
    "    features  = [i for i in tree.tree_.feature]\n",
    "    featureIndex = [num for num in features if num != -2]\n",
    "    return featureIndex\n"
   ]
  },
  {
   "cell_type": "code",
   "execution_count": 87,
   "id": "c223a855",
   "metadata": {},
   "outputs": [],
   "source": [
    "def indexOf(d, v):\n",
    "    for i in d:\n",
    "        if (i == v):\n",
    "            return True\n",
    "    return False   "
   ]
  },
  {
   "cell_type": "code",
   "execution_count": 88,
   "id": "7db60301",
   "metadata": {},
   "outputs": [],
   "source": [
    "d={}\n",
    "for idx, dtree in enumerate(rf_model.estimators_): \n",
    "    a = get_feature(tree = dtree)\n",
    "    for i in a:\n",
    "        if(indexOf(d, i)):\n",
    "#             lay ra munber\n",
    "            number = d.get(i)\n",
    "#  cong them 1 \n",
    "            number = number +1;\n",
    "#  Gan lai vao distionary\n",
    "            d[i] = number\n",
    "        else:\n",
    "#       Them vào dictionary  \n",
    "            d.update({i:1})       \n",
    "        "
   ]
  },
  {
   "cell_type": "code",
   "execution_count": 89,
   "id": "9971e91a",
   "metadata": {},
   "outputs": [],
   "source": [
    "a = sorted(d.items(), key=lambda item: item[1], reverse=True)"
   ]
  },
  {
   "cell_type": "code",
   "execution_count": 90,
   "id": "079d7f81",
   "metadata": {},
   "outputs": [],
   "source": [
    "def getNumberFrist(d, n):\n",
    "    number = n if n<len(d) else len(d)\n",
    "    count = 0\n",
    "    arr = [];\n",
    "    for key, v in d:\n",
    "        if (count < number):\n",
    "            arr.append(key)\n",
    "            count = count +1;\n",
    "        else:\n",
    "            break\n",
    "    return arr;                 \n",
    "    "
   ]
  },
  {
   "cell_type": "code",
   "execution_count": 91,
   "id": "8fd0ae0b",
   "metadata": {},
   "outputs": [],
   "source": [
    "arr = getNumberFrist(a, 250)"
   ]
  },
  {
   "cell_type": "code",
   "execution_count": 92,
   "id": "d3dff046",
   "metadata": {},
   "outputs": [],
   "source": [
    "X2 = X_Train.iloc[:,arr]"
   ]
  },
  {
   "cell_type": "code",
   "execution_count": 93,
   "id": "d96ae7ea",
   "metadata": {},
   "outputs": [
    {
     "data": {
      "text/html": [
       "<style>#sk-container-id-6 {color: black;}#sk-container-id-6 pre{padding: 0;}#sk-container-id-6 div.sk-toggleable {background-color: white;}#sk-container-id-6 label.sk-toggleable__label {cursor: pointer;display: block;width: 100%;margin-bottom: 0;padding: 0.3em;box-sizing: border-box;text-align: center;}#sk-container-id-6 label.sk-toggleable__label-arrow:before {content: \"▸\";float: left;margin-right: 0.25em;color: #696969;}#sk-container-id-6 label.sk-toggleable__label-arrow:hover:before {color: black;}#sk-container-id-6 div.sk-estimator:hover label.sk-toggleable__label-arrow:before {color: black;}#sk-container-id-6 div.sk-toggleable__content {max-height: 0;max-width: 0;overflow: hidden;text-align: left;background-color: #f0f8ff;}#sk-container-id-6 div.sk-toggleable__content pre {margin: 0.2em;color: black;border-radius: 0.25em;background-color: #f0f8ff;}#sk-container-id-6 input.sk-toggleable__control:checked~div.sk-toggleable__content {max-height: 200px;max-width: 100%;overflow: auto;}#sk-container-id-6 input.sk-toggleable__control:checked~label.sk-toggleable__label-arrow:before {content: \"▾\";}#sk-container-id-6 div.sk-estimator input.sk-toggleable__control:checked~label.sk-toggleable__label {background-color: #d4ebff;}#sk-container-id-6 div.sk-label input.sk-toggleable__control:checked~label.sk-toggleable__label {background-color: #d4ebff;}#sk-container-id-6 input.sk-hidden--visually {border: 0;clip: rect(1px 1px 1px 1px);clip: rect(1px, 1px, 1px, 1px);height: 1px;margin: -1px;overflow: hidden;padding: 0;position: absolute;width: 1px;}#sk-container-id-6 div.sk-estimator {font-family: monospace;background-color: #f0f8ff;border: 1px dotted black;border-radius: 0.25em;box-sizing: border-box;margin-bottom: 0.5em;}#sk-container-id-6 div.sk-estimator:hover {background-color: #d4ebff;}#sk-container-id-6 div.sk-parallel-item::after {content: \"\";width: 100%;border-bottom: 1px solid gray;flex-grow: 1;}#sk-container-id-6 div.sk-label:hover label.sk-toggleable__label {background-color: #d4ebff;}#sk-container-id-6 div.sk-serial::before {content: \"\";position: absolute;border-left: 1px solid gray;box-sizing: border-box;top: 0;bottom: 0;left: 50%;z-index: 0;}#sk-container-id-6 div.sk-serial {display: flex;flex-direction: column;align-items: center;background-color: white;padding-right: 0.2em;padding-left: 0.2em;position: relative;}#sk-container-id-6 div.sk-item {position: relative;z-index: 1;}#sk-container-id-6 div.sk-parallel {display: flex;align-items: stretch;justify-content: center;background-color: white;position: relative;}#sk-container-id-6 div.sk-item::before, #sk-container-id-6 div.sk-parallel-item::before {content: \"\";position: absolute;border-left: 1px solid gray;box-sizing: border-box;top: 0;bottom: 0;left: 50%;z-index: -1;}#sk-container-id-6 div.sk-parallel-item {display: flex;flex-direction: column;z-index: 1;position: relative;background-color: white;}#sk-container-id-6 div.sk-parallel-item:first-child::after {align-self: flex-end;width: 50%;}#sk-container-id-6 div.sk-parallel-item:last-child::after {align-self: flex-start;width: 50%;}#sk-container-id-6 div.sk-parallel-item:only-child::after {width: 0;}#sk-container-id-6 div.sk-dashed-wrapped {border: 1px dashed gray;margin: 0 0.4em 0.5em 0.4em;box-sizing: border-box;padding-bottom: 0.4em;background-color: white;}#sk-container-id-6 div.sk-label label {font-family: monospace;font-weight: bold;display: inline-block;line-height: 1.2em;}#sk-container-id-6 div.sk-label-container {text-align: center;}#sk-container-id-6 div.sk-container {/* jupyter's `normalize.less` sets `[hidden] { display: none; }` but bootstrap.min.css set `[hidden] { display: none !important; }` so we also need the `!important` here to be able to override the default hidden behavior on the sphinx rendered scikit-learn.org. See: https://github.com/scikit-learn/scikit-learn/issues/21755 */display: inline-block !important;position: relative;}#sk-container-id-6 div.sk-text-repr-fallback {display: none;}</style><div id=\"sk-container-id-6\" class=\"sk-top-container\"><div class=\"sk-text-repr-fallback\"><pre>RandomForestClassifier(n_estimators=500)</pre><b>In a Jupyter environment, please rerun this cell to show the HTML representation or trust the notebook. <br />On GitHub, the HTML representation is unable to render, please try loading this page with nbviewer.org.</b></div><div class=\"sk-container\" hidden><div class=\"sk-item\"><div class=\"sk-estimator sk-toggleable\"><input class=\"sk-toggleable__control sk-hidden--visually\" id=\"sk-estimator-id-6\" type=\"checkbox\" checked><label for=\"sk-estimator-id-6\" class=\"sk-toggleable__label sk-toggleable__label-arrow\">RandomForestClassifier</label><div class=\"sk-toggleable__content\"><pre>RandomForestClassifier(n_estimators=500)</pre></div></div></div></div></div>"
      ],
      "text/plain": [
       "RandomForestClassifier(n_estimators=500)"
      ]
     },
     "execution_count": 93,
     "metadata": {},
     "output_type": "execute_result"
    }
   ],
   "source": [
    "rf_model.fit(X2,Y_Train.values.ravel())\n"
   ]
  },
  {
   "cell_type": "code",
   "execution_count": 94,
   "id": "ec71abc0",
   "metadata": {},
   "outputs": [],
   "source": [
    "X_Test1 = X_Test.iloc[:, arr]\n",
    "pred_y = rf_model.predict(X_Test1)\n",
    "accRF = metrics.accuracy_score(Y_Test, pred_y)"
   ]
  },
  {
   "cell_type": "code",
   "execution_count": 95,
   "id": "84b52068",
   "metadata": {},
   "outputs": [
    {
     "name": "stdout",
     "output_type": "stream",
     "text": [
      "0.625\n"
     ]
    }
   ],
   "source": [
    "print(accRF)"
   ]
  }
 ],
 "metadata": {
  "kernelspec": {
   "display_name": "Python 3 (ipykernel)",
   "language": "python",
   "name": "python3"
  },
  "language_info": {
   "codemirror_mode": {
    "name": "ipython",
    "version": 3
   },
   "file_extension": ".py",
   "mimetype": "text/x-python",
   "name": "python",
   "nbconvert_exporter": "python",
   "pygments_lexer": "ipython3",
   "version": "3.9.13"
  }
 },
 "nbformat": 4,
 "nbformat_minor": 5
}
