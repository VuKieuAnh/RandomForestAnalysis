{
 "cells": [
  {
   "cell_type": "code",
   "execution_count": 244,
   "id": "3ab485eb",
   "metadata": {},
   "outputs": [],
   "source": [
    "import pandas as pd\n",
    "from sklearn.tree import DecisionTreeClassifier # Import Decision Tree Classifier\n",
    "from sklearn.model_selection import train_test_split # Import train_test_split function\n",
    "\n",
    "from sklearn import metrics #Import scikit-learn metrics module for accuracy calculation\n",
    "from sklearn.ensemble import RandomForestClassifier \n",
    "\n",
    "import random\n",
    "import numpy as np\n",
    "import math\n",
    "from sklearn import tree\n",
    "from sklearn.naive_bayes import GaussianNB\n",
    "from sklearn.naive_bayes import MultinomialNB, BernoulliNB\n",
    "from sklearn.svm import SVC\n",
    "from sklearn.naive_bayes import GaussianNB\n",
    "from sklearn.naive_bayes import MultinomialNB, BernoulliNB\n",
    "from sklearn.svm import SVC"
   ]
  },
  {
   "cell_type": "code",
   "execution_count": 245,
   "id": "4e8b14af",
   "metadata": {},
   "outputs": [],
   "source": [
    "def indexOf(d, v):\n",
    "    for i in d:\n",
    "        if (i == v):\n",
    "            return True\n",
    "    return False   "
   ]
  },
  {
   "cell_type": "code",
   "execution_count": 246,
   "id": "dbaf4f6e",
   "metadata": {},
   "outputs": [],
   "source": [
    "def get_feature(tree):\n",
    "    features  = [i for i in tree.tree_.feature]\n",
    "    featureIndex = [num for num in features if num != -2]\n",
    "    return featureIndex"
   ]
  },
  {
   "cell_type": "code",
   "execution_count": 247,
   "id": "bba5723c",
   "metadata": {},
   "outputs": [],
   "source": [
    "def getNumberFrist(d, n):\n",
    "    number = n if n<len(d) else len(d)\n",
    "    count = 0\n",
    "    arr = [];\n",
    "    for key, v in d:\n",
    "        if (count < number):\n",
    "            arr.append(key)\n",
    "            count = count +1;\n",
    "        else:\n",
    "            break\n",
    "    return arr;    "
   ]
  },
  {
   "cell_type": "code",
   "execution_count": 248,
   "id": "374cccf3",
   "metadata": {},
   "outputs": [],
   "source": [
    "def buildRFwithAllFeature(df, n):\n",
    "    df.columns.values[0] = \"class\"\n",
    "    X = df.iloc[:,df.columns !='class']\n",
    "    Y = df[['class']]\n",
    "    d={}\n",
    "    acc_RF = list()\n",
    "    for i in range(n):\n",
    "        X_Train, X_Test, Y_Train, Y_Test = train_test_split(X, Y, train_size=0.7, random_state=np.random.randint(0, 100000))        \n",
    "        r,c = df.shape\n",
    "        rf_model.fit(X_Train,Y_Train.values.ravel())\n",
    "        pred_y = rf_model.predict(X_Test)\n",
    "        accRFi = metrics.accuracy_score(Y_Test, pred_y)\n",
    "        acc_RF.append(accRFi)\n",
    "        for idx, dtree in enumerate(rf_model.estimators_): \n",
    "            a = get_feature(tree = dtree)\n",
    "            for i in a:\n",
    "                if(indexOf(d, i)):\n",
    "                    number = d.get(i)\n",
    "                    number = number +1;\n",
    "                    d[i] = number\n",
    "                else:\n",
    "                    d.update({i:1})   \n",
    "    print (\"Gia tri trung binh\")\n",
    "    print (np.mean(acc_RF))    ## gia tri trung binh  \n",
    "    print (\"Do lech chuan\")\n",
    "    print (np.std(acc_RF))     ## Do lech chuan\n",
    "    return d"
   ]
  },
  {
   "cell_type": "code",
   "execution_count": 249,
   "id": "f04d46b2",
   "metadata": {},
   "outputs": [],
   "source": [
    "def buildRFwithArrFeature(df, n, arrFeature):\n",
    "    df.columns.values[0] = \"class\"\n",
    "    X = df.iloc[:,df.columns !='class']\n",
    "    Y = df[['class']]\n",
    "    d={}\n",
    "    acc_RF = list()\n",
    "    for i in range(n):\n",
    "        X_Train, X_Test, Y_Train, Y_Test = train_test_split(X, Y, train_size=0.7, random_state=np.random.randint(0, 100000))        \n",
    "        X_Train1 = X_Train.iloc[:,arrFeature]\n",
    "        X_Test1 = X_Test.iloc[:, arrFeature]\n",
    "        rf_model.fit(X_Train1,Y_Train.values.ravel())\n",
    "        pred_y = rf_model.predict(X_Test1)\n",
    "        accRFi = metrics.accuracy_score(Y_Test, pred_y)\n",
    "        acc_RF.append(accRFi)\n",
    "    print (\"Gia tri trung binh\")\n",
    "    print (np.mean(acc_RF))    ## gia tri trung binh  \n",
    "    print (\"Do lech chuan\")\n",
    "    print (np.std(acc_RF))     ## Do lech chuan "
   ]
  },
  {
   "cell_type": "code",
   "execution_count": 250,
   "id": "f312f321",
   "metadata": {},
   "outputs": [],
   "source": [
    "def buidSVCAllFeature(df, n):\n",
    "    df.columns.values[0] = \"class\"\n",
    "    X = df.iloc[:,df.columns !='class']\n",
    "    Y = df[['class']]\n",
    "    d={}\n",
    "    acc_SVC = list()\n",
    "    for i in range(n):\n",
    "        X_Train, X_Test, Y_Train, Y_Test = train_test_split(X, Y, train_size=0.7, random_state=np.random.randint(0, 100000))        \n",
    "        svclassifier.fit(X_Train, Y_Train.values.ravel())\n",
    "        y_pred = svclassifier.predict(X_Test) \n",
    "        accI = metrics.accuracy_score(Y_Test, y_pred);\n",
    "        acc_SVC.append(accI);\n",
    "    print (\"Gia tri trung binh\")\n",
    "    print (np.mean(acc_SVC))    ## gia tri trung binh      \n",
    "    "
   ]
  },
  {
   "cell_type": "code",
   "execution_count": 251,
   "id": "d6d488f8",
   "metadata": {},
   "outputs": [],
   "source": [
    "def buidSVCSSelectedFeature(df, n, arrFeature):\n",
    "    df.columns.values[0] = \"class\"\n",
    "    X = df.iloc[:,df.columns !='class']\n",
    "    Y = df[['class']]\n",
    "    d={}\n",
    "    acc_SVC = list()\n",
    "    for i in range(n):\n",
    "        X_Train, X_Test, Y_Train, Y_Test = train_test_split(X, Y, train_size=0.7, random_state=np.random.randint(0, 100000))        \n",
    "        X_Train1 = X_Train.iloc[:,arrFeature]\n",
    "        X_Test1 = X_Test.iloc[:, arrFeature]\n",
    "        svclassifier.fit(X_Train1, Y_Train.values.ravel())\n",
    "        y_pred = svclassifier.predict(X_Test1) \n",
    "        accI = metrics.accuracy_score(Y_Test, y_pred);\n",
    "        acc_SVC.append(accI);\n",
    "    print (\"Gia tri trung binh\")\n",
    "    print (np.mean(acc_SVC))    ## gia tri trung binh      "
   ]
  },
  {
   "cell_type": "code",
   "execution_count": 252,
   "id": "af21eeb2",
   "metadata": {},
   "outputs": [],
   "source": [
    "def buidNaivebayesAllFeature(df, n):\n",
    "    df.columns.values[0] = \"class\"\n",
    "    X = df.iloc[:,df.columns !='class']\n",
    "    Y = df[['class']]\n",
    "    d={}\n",
    "    acc_SVC = list()\n",
    "    for i in range(n):\n",
    "        X_Train, X_Test, Y_Train, Y_Test = train_test_split(X, Y, train_size=0.7, random_state=np.random.randint(0, 100000))        \n",
    "        model_navie.fit(X_Train, Y_Train.values.ravel()) \n",
    "        prediction = model_navie.predict(X_Test)   \n",
    "        accI = metrics.accuracy_score(Y_Test, prediction);\n",
    "        acc_SVC.append(accI);\n",
    "    print (\"Gia tri trung binh\")\n",
    "    print (np.mean(acc_SVC))    ## gia tri trung binh   "
   ]
  },
  {
   "cell_type": "code",
   "execution_count": 253,
   "id": "27f488e6",
   "metadata": {},
   "outputs": [],
   "source": [
    "def buidNaivebayesSelectedFeature(df, n, arrFeature):\n",
    "    df.columns.values[0] = \"class\"\n",
    "    X = df.iloc[:,df.columns !='class']\n",
    "    Y = df[['class']]\n",
    "    d={}\n",
    "    acc_SVC = list()\n",
    "    for i in range(n):\n",
    "        X_Train, X_Test, Y_Train, Y_Test = train_test_split(X, Y, train_size=0.7, random_state=np.random.randint(0, 100000))        \n",
    "        X_Train1 = X_Train.iloc[:,arrFeature]\n",
    "        X_Test1 = X_Test.iloc[:, arrFeature]\n",
    "        model_navie.fit(X_Train1, Y_Train.values.ravel()) \n",
    "        prediction = model_navie.predict(X_Test1)   \n",
    "        accI = metrics.accuracy_score(Y_Test, prediction);\n",
    "        acc_SVC.append(accI);\n",
    "    print (\"Gia tri trung binh\")\n",
    "    print (np.mean(acc_SVC))    ## gia tri trung binh"
   ]
  },
  {
   "cell_type": "code",
   "execution_count": 254,
   "id": "8f383957",
   "metadata": {},
   "outputs": [],
   "source": [
    "data = df = pd.read_csv(\"data/adenocarcinoma.csv\")\n",
    "r,c = df.shape\n",
    "rf_model = RandomForestClassifier(n_estimators=500)"
   ]
  },
  {
   "cell_type": "code",
   "execution_count": null,
   "id": "56dcba5e",
   "metadata": {},
   "outputs": [],
   "source": [
    "d = buildRFwithAllFeature(df, 20)"
   ]
  },
  {
   "cell_type": "code",
   "execution_count": 223,
   "id": "9971e91a",
   "metadata": {},
   "outputs": [],
   "source": [
    "a = sorted(d.items(), key=lambda item: item[1], reverse=True)"
   ]
  },
  {
   "cell_type": "code",
   "execution_count": 224,
   "id": "8fd0ae0b",
   "metadata": {},
   "outputs": [
    {
     "name": "stdout",
     "output_type": "stream",
     "text": [
      "Gia tri trung binh\n",
      "0.8434782608695652\n",
      "Do lech chuan\n",
      "0.08180385966185556\n"
     ]
    }
   ],
   "source": [
    "number1 = c*20/100;    \n",
    "arr1 = getNumberFrist(a, number)\n",
    "buildRFwithArrFeature(df, 20, arr1)"
   ]
  },
  {
   "cell_type": "code",
   "execution_count": 225,
   "id": "1ea930f4",
   "metadata": {},
   "outputs": [
    {
     "name": "stdout",
     "output_type": "stream",
     "text": [
      "Gia tri trung binh\n",
      "0.8456521739130436\n",
      "Do lech chuan\n",
      "0.07590039239172215\n"
     ]
    }
   ],
   "source": [
    "number2 = c*10/100;    \n",
    "arr2 = getNumberFrist(a, number2)\n",
    "buildRFwithArrFeature(df, 20, arr2)"
   ]
  },
  {
   "cell_type": "code",
   "execution_count": 226,
   "id": "6c6d045a",
   "metadata": {},
   "outputs": [
    {
     "name": "stdout",
     "output_type": "stream",
     "text": [
      "Gia tri trung binh\n",
      "0.8630434782608696\n",
      "Do lech chuan\n",
      "0.05546674270510031\n"
     ]
    }
   ],
   "source": [
    "number3 = c*5/100;    \n",
    "arr3 = getNumberFrist(a, number3)\n",
    "buildRFwithArrFeature(df, 20, arr3)"
   ]
  },
  {
   "cell_type": "code",
   "execution_count": 228,
   "id": "6acf7349",
   "metadata": {},
   "outputs": [],
   "source": [
    "svclassifier = SVC(kernel='rbf')"
   ]
  },
  {
   "cell_type": "code",
   "execution_count": 232,
   "id": "7d57f1b7",
   "metadata": {},
   "outputs": [
    {
     "name": "stdout",
     "output_type": "stream",
     "text": [
      "Gia tri trung binh\n",
      "0.8413043478260869\n"
     ]
    }
   ],
   "source": [
    "buidSVCAllFeature(df, 20)"
   ]
  },
  {
   "cell_type": "code",
   "execution_count": 234,
   "id": "2b97857b",
   "metadata": {},
   "outputs": [
    {
     "name": "stdout",
     "output_type": "stream",
     "text": [
      "Gia tri trung binh\n",
      "0.8347826086956524\n"
     ]
    }
   ],
   "source": [
    "buidSVCSSelectedFeature(df, 20, arr1)"
   ]
  },
  {
   "cell_type": "code",
   "execution_count": 235,
   "id": "0fa773ae",
   "metadata": {},
   "outputs": [
    {
     "name": "stdout",
     "output_type": "stream",
     "text": [
      "Gia tri trung binh\n",
      "0.8630434782608696\n"
     ]
    }
   ],
   "source": [
    "buidSVCSSelectedFeature(df, 20, arr2)"
   ]
  },
  {
   "cell_type": "code",
   "execution_count": 236,
   "id": "0cd18075",
   "metadata": {},
   "outputs": [
    {
     "name": "stdout",
     "output_type": "stream",
     "text": [
      "Gia tri trung binh\n",
      "0.8652173913043478\n"
     ]
    }
   ],
   "source": [
    "buidSVCSSelectedFeature(df, 20, arr3)"
   ]
  },
  {
   "cell_type": "code",
   "execution_count": 237,
   "id": "070aa594",
   "metadata": {},
   "outputs": [],
   "source": [
    "model_navie = GaussianNB()"
   ]
  },
  {
   "cell_type": "code",
   "execution_count": 239,
   "id": "cb2f5ea9",
   "metadata": {},
   "outputs": [
    {
     "name": "stdout",
     "output_type": "stream",
     "text": [
      "Gia tri trung binh\n",
      "0.8282608695652174\n"
     ]
    }
   ],
   "source": [
    "buidNaivebayesAllFeature(df, 20)"
   ]
  },
  {
   "cell_type": "code",
   "execution_count": 241,
   "id": "6f5bfe4d",
   "metadata": {},
   "outputs": [
    {
     "name": "stdout",
     "output_type": "stream",
     "text": [
      "Gia tri trung binh\n",
      "0.8065217391304348\n"
     ]
    }
   ],
   "source": [
    "buidNaivebayesSelectedFeature(df, 20, arr1)"
   ]
  },
  {
   "cell_type": "code",
   "execution_count": 242,
   "id": "6771f380",
   "metadata": {},
   "outputs": [
    {
     "name": "stdout",
     "output_type": "stream",
     "text": [
      "Gia tri trung binh\n",
      "0.7869565217391304\n"
     ]
    }
   ],
   "source": [
    "buidNaivebayesSelectedFeature(df, 20, arr2)"
   ]
  },
  {
   "cell_type": "code",
   "execution_count": 243,
   "id": "741bd13e",
   "metadata": {},
   "outputs": [
    {
     "name": "stdout",
     "output_type": "stream",
     "text": [
      "Gia tri trung binh\n",
      "0.7608695652173914\n"
     ]
    }
   ],
   "source": [
    "buidNaivebayesSelectedFeature(df, 20, arr3)"
   ]
  },
  {
   "cell_type": "code",
   "execution_count": null,
   "id": "de96a07b",
   "metadata": {},
   "outputs": [],
   "source": []
  }
 ],
 "metadata": {
  "kernelspec": {
   "display_name": "Python 3 (ipykernel)",
   "language": "python",
   "name": "python3"
  },
  "language_info": {
   "codemirror_mode": {
    "name": "ipython",
    "version": 3
   },
   "file_extension": ".py",
   "mimetype": "text/x-python",
   "name": "python",
   "nbconvert_exporter": "python",
   "pygments_lexer": "ipython3",
   "version": "3.9.13"
  }
 },
 "nbformat": 4,
 "nbformat_minor": 5
}
